{
 "cells": [
  {
   "cell_type": "markdown",
   "metadata": {},
   "source": [
    "# WeatherPy\n",
    "----\n",
    "\n",
    "#### Note\n",
    "* Instructions have been included for each segment. You do not have to follow them exactly, but they are included to help you think through the steps."
   ]
  },
  {
   "cell_type": "code",
   "execution_count": 8,
   "metadata": {
    "scrolled": true
   },
   "outputs": [],
   "source": [
    "## Import Dependencies\n",
    "import matplotlib.pyplot as plt\n",
    "import scipy.stats as st\n",
    "import pandas as pd\n",
    "import numpy as np\n",
    "import requests\n",
    "import time\n"
   ]
  },
  {
   "cell_type": "code",
   "execution_count": 9,
   "metadata": {},
   "outputs": [],
   "source": [
    "## Weather API key\n",
    "from api_keys import weather_api_key"
   ]
  },
  {
   "cell_type": "code",
   "execution_count": 10,
   "metadata": {},
   "outputs": [],
   "source": [
    "## Import citipy\n",
    "from citipy import citipy"
   ]
  },
  {
   "cell_type": "markdown",
   "metadata": {},
   "source": [
    "## Generate Cities List"
   ]
  },
  {
   "cell_type": "code",
   "execution_count": 11,
   "metadata": {},
   "outputs": [],
   "source": [
    "## Latitude and longitude ranges\n",
    "lat_range = (-90, 90)\n",
    "lng_range = (-180, 180)\n",
    "\n",
    "## Cities list and latitudes-longitudes list\n",
    "cities = []\n",
    "lats_lngs_list = []\n"
   ]
  },
  {
   "cell_type": "code",
   "execution_count": 12,
   "metadata": {},
   "outputs": [],
   "source": [
    "## Radomize latitudes and longitudes, and set combinations\n",
    "lats = np.random.uniform(lat_range[0], lat_range[1], size = 1300)\n",
    "lngs = np.random.uniform(lng_range[0], lng_range[1], size = 1300)\n",
    "lats_lngs_list = zip(lats,lngs)"
   ]
  },
  {
   "cell_type": "code",
   "execution_count": 13,
   "metadata": {},
   "outputs": [
    {
     "name": "stdout",
     "output_type": "stream",
     "text": [
      "568\n"
     ]
    }
   ],
   "source": [
    "## Find nearest city for latitude and longitude combination using citipy\n",
    "for i in lats_lngs_list:\n",
    "    city = citipy.nearest_city(i[0], i[1]).city_name\n",
    "    \n",
    "    ## If city is unique, add it to the cities list\n",
    "    if city not in cities:\n",
    "        cities.append(city)\n",
    "        \n",
    "## Confirm count is above 500\n",
    "print(len(cities))"
   ]
  },
  {
   "cell_type": "markdown",
   "metadata": {},
   "source": [
    "### Perform API Calls\n",
    "* Perform a weather check on each city using a series of successive API calls.\n",
    "* Include a print log of each city as it'sbeing processed (with the city number and city name).\n"
   ]
  },
  {
   "cell_type": "code",
   "execution_count": 14,
   "metadata": {},
   "outputs": [],
   "source": [
    "## Perform a weather check on each city\n",
    "\n",
    "## Set up lists to hold reponse info\n",
    "city_list = []\n",
    "temps = []\n",
    "humidity = []\n",
    "clouds = []\n",
    "winds = []\n",
    "latitudes = []\n",
    "longitudes = []\n",
    "countries = []\n",
    "date = []"
   ]
  },
  {
   "cell_type": "code",
   "execution_count": 15,
   "metadata": {},
   "outputs": [],
   "source": [
    "## Set URL and Units\n",
    "#url = \"https://openweathermap.org/api\"\n",
    "units = \"imperial\"\n",
    "base_url = f'http://api.openweathermap.org/data/2.5/weather?appid={weather_api_key}&units={units}&q='\n"
   ]
  },
  {
   "cell_type": "code",
   "execution_count": 16,
   "metadata": {},
   "outputs": [],
   "source": [
    "## Loop counters\n",
    "counter = 0\n",
    "set_counter = 1"
   ]
  },
  {
   "cell_type": "code",
   "execution_count": 17,
   "metadata": {},
   "outputs": [
    {
     "name": "stdout",
     "output_type": "stream",
     "text": [
      "Processing Record 1 of Set 1 | alyangula\n",
      "Processing Record 2 of Set 1 | ushuaia\n",
      "Processing Record 3 of Set 1 | port alfred\n",
      "City not found. Skipping request...\n",
      "Processing Record 4 of Set 1 | hermanus\n",
      "Processing Record 5 of Set 1 | tura\n",
      "Processing Record 6 of Set 1 | biak\n",
      "Processing Record 7 of Set 1 | upernavik\n",
      "Processing Record 8 of Set 1 | touros\n",
      "Processing Record 9 of Set 1 | bredasdorp\n",
      "Processing Record 10 of Set 1 | rovaniemi\n",
      "Processing Record 11 of Set 1 | tasiilaq\n",
      "Processing Record 12 of Set 1 | hammerfest\n",
      "Processing Record 13 of Set 1 | carnarvon\n",
      "City not found. Skipping request...\n",
      "Processing Record 14 of Set 1 | sao joao da barra\n",
      "Processing Record 15 of Set 1 | vila franca do campo\n",
      "Processing Record 16 of Set 1 | cartagena\n",
      "Processing Record 17 of Set 1 | kharp\n",
      "City not found. Skipping request...\n",
      "Processing Record 18 of Set 1 | rikitea\n",
      "Processing Record 19 of Set 1 | cabo san lucas\n",
      "City not found. Skipping request...\n",
      "Processing Record 20 of Set 1 | dikson\n",
      "Processing Record 21 of Set 1 | lagunas\n",
      "Processing Record 22 of Set 1 | castro\n",
      "Processing Record 23 of Set 1 | atuona\n",
      "Processing Record 24 of Set 1 | maluso\n",
      "Processing Record 25 of Set 1 | nakasongola\n",
      "Processing Record 26 of Set 1 | kodiak\n",
      "Processing Record 27 of Set 1 | puerto rico\n",
      "City not found. Skipping request...\n",
      "Processing Record 28 of Set 1 | cape town\n",
      "Processing Record 29 of Set 1 | jamestown\n",
      "Processing Record 30 of Set 1 | barrow\n",
      "City not found. Skipping request...\n",
      "Processing Record 31 of Set 1 | lakes entrance\n",
      "Processing Record 32 of Set 1 | buraydah\n",
      "Processing Record 33 of Set 1 | sakakah\n",
      "Processing Record 34 of Set 1 | lhokseumawe\n",
      "Processing Record 35 of Set 1 | meadow lake\n",
      "Processing Record 36 of Set 1 | bukachacha\n",
      "Processing Record 37 of Set 1 | hithadhoo\n",
      "Processing Record 38 of Set 1 | victoria\n",
      "Processing Record 39 of Set 1 | georgetown\n",
      "City not found. Skipping request...\n",
      "Processing Record 40 of Set 1 | bilma\n",
      "Processing Record 41 of Set 1 | bluff\n",
      "Processing Record 42 of Set 1 | bull savanna\n",
      "Processing Record 43 of Set 1 | tuktoyaktuk\n",
      "Processing Record 44 of Set 1 | punta arenas\n",
      "Processing Record 45 of Set 1 | klaksvik\n",
      "City not found. Skipping request...\n",
      "Processing Record 46 of Set 1 | hobart\n",
      "Processing Record 47 of Set 1 | fortuna\n",
      "Processing Record 48 of Set 1 | komsomolskiy\n",
      "Processing Record 49 of Set 1 | thompson\n",
      "Processing Record 50 of Set 1 | caravelas\n",
      "Processing Record 51 of Set 1 | abha\n",
      "Processing Record 1 of Set 2 | lompoc\n",
      "Processing Record 2 of Set 2 | busselton\n",
      "Processing Record 3 of Set 2 | butaritari\n",
      "Processing Record 4 of Set 2 | pudozh\n",
      "Processing Record 5 of Set 2 | mar del plata\n",
      "Processing Record 6 of Set 2 | barra\n",
      "Processing Record 7 of Set 2 | saint-philippe\n",
      "Processing Record 8 of Set 2 | idrinskoye\n",
      "Processing Record 9 of Set 2 | ouallam\n",
      "Processing Record 10 of Set 2 | hambantota\n",
      "City not found. Skipping request...\n",
      "Processing Record 11 of Set 2 | monduli\n",
      "Processing Record 12 of Set 2 | bethel\n",
      "Processing Record 13 of Set 2 | port elizabeth\n",
      "Processing Record 14 of Set 2 | nishihara\n",
      "Processing Record 15 of Set 2 | mendoza\n",
      "Processing Record 16 of Set 2 | acapulco\n",
      "City not found. Skipping request...\n",
      "Processing Record 17 of Set 2 | santo domingo\n",
      "Processing Record 18 of Set 2 | vestmannaeyjar\n",
      "City not found. Skipping request...\n",
      "Processing Record 19 of Set 2 | albany\n",
      "Processing Record 20 of Set 2 | yellowknife\n",
      "Processing Record 21 of Set 2 | vemalwada\n",
      "Processing Record 22 of Set 2 | shelburne\n",
      "City not found. Skipping request...\n",
      "Processing Record 23 of Set 2 | lagoa\n",
      "Processing Record 24 of Set 2 | ribeira grande\n",
      "Processing Record 25 of Set 2 | nikolskoye\n",
      "Processing Record 26 of Set 2 | lebu\n",
      "Processing Record 27 of Set 2 | khatanga\n",
      "Processing Record 28 of Set 2 | tagusao\n",
      "Processing Record 29 of Set 2 | teya\n",
      "Processing Record 30 of Set 2 | pontal do parana\n",
      "Processing Record 31 of Set 2 | torbay\n",
      "Processing Record 32 of Set 2 | beloha\n",
      "Processing Record 33 of Set 2 | sakaiminato\n",
      "Processing Record 34 of Set 2 | muli\n",
      "Processing Record 35 of Set 2 | jahazpur\n",
      "Processing Record 36 of Set 2 | pevek\n",
      "Processing Record 37 of Set 2 | mahebourg\n",
      "Processing Record 38 of Set 2 | kalmar\n",
      "Processing Record 39 of Set 2 | arak\n",
      "Processing Record 40 of Set 2 | chimbarongo\n",
      "Processing Record 41 of Set 2 | puerto narino\n",
      "Processing Record 42 of Set 2 | myre\n",
      "Processing Record 43 of Set 2 | puerto baquerizo moreno\n",
      "Processing Record 44 of Set 2 | salalah\n",
      "Processing Record 45 of Set 2 | hilo\n",
      "Processing Record 46 of Set 2 | cherskiy\n",
      "Processing Record 47 of Set 2 | chokurdakh\n",
      "Processing Record 48 of Set 2 | avarua\n",
      "City not found. Skipping request...\n",
      "Processing Record 49 of Set 2 | pueblo nuevo\n",
      "Processing Record 50 of Set 2 | san carlos\n",
      "Processing Record 51 of Set 2 | grindavik\n",
      "Processing Record 1 of Set 3 | vardo\n",
      "Processing Record 2 of Set 3 | kapaa\n",
      "Processing Record 3 of Set 3 | kaitangata\n",
      "Processing Record 4 of Set 3 | semey\n",
      "Processing Record 5 of Set 3 | kogon\n",
      "Processing Record 6 of Set 3 | kochki\n",
      "Processing Record 7 of Set 3 | vostok\n",
      "Processing Record 8 of Set 3 | belmonte\n",
      "Processing Record 9 of Set 3 | tiksi\n",
      "Processing Record 10 of Set 3 | ponta delgada\n",
      "Processing Record 11 of Set 3 | ostrovnoy\n",
      "Processing Record 12 of Set 3 | muros\n",
      "Processing Record 13 of Set 3 | qaanaaq\n",
      "Processing Record 14 of Set 3 | necochea\n",
      "City not found. Skipping request...\n",
      "Processing Record 15 of Set 3 | esperance\n",
      "City not found. Skipping request...\n",
      "Processing Record 16 of Set 3 | chuy\n",
      "Processing Record 17 of Set 3 | constitucion\n",
      "Processing Record 18 of Set 3 | mataura\n",
      "Processing Record 19 of Set 3 | oksfjord\n",
      "Processing Record 20 of Set 3 | rawson\n",
      "Processing Record 21 of Set 3 | airai\n",
      "Processing Record 22 of Set 3 | craig\n",
      "City not found. Skipping request...\n",
      "Processing Record 23 of Set 3 | saravan\n",
      "City not found. Skipping request...\n",
      "Processing Record 24 of Set 3 | sahuaripa\n",
      "Processing Record 25 of Set 3 | hofn\n",
      "Processing Record 26 of Set 3 | naze\n",
      "Processing Record 27 of Set 3 | cidreira\n",
      "City not found. Skipping request...\n",
      "City not found. Skipping request...\n",
      "Processing Record 28 of Set 3 | hamilton\n",
      "Processing Record 29 of Set 3 | longyearbyen\n",
      "Processing Record 30 of Set 3 | wilmington\n",
      "Processing Record 31 of Set 3 | bambous virieux\n",
      "Processing Record 32 of Set 3 | tuatapere\n",
      "Processing Record 33 of Set 3 | mount isa\n",
      "Processing Record 34 of Set 3 | bandarbeyla\n",
      "Processing Record 35 of Set 3 | paamiut\n",
      "City not found. Skipping request...\n",
      "Processing Record 36 of Set 3 | codrington\n",
      "Processing Record 37 of Set 3 | manta\n",
      "Processing Record 38 of Set 3 | praia\n",
      "Processing Record 39 of Set 3 | camacha\n",
      "Processing Record 40 of Set 3 | saskylakh\n",
      "Processing Record 41 of Set 3 | sao francisco do sul\n",
      "Processing Record 42 of Set 3 | panuco\n",
      "Processing Record 43 of Set 3 | eyl\n",
      "Processing Record 44 of Set 3 | esso\n",
      "Processing Record 45 of Set 3 | richards bay\n",
      "Processing Record 46 of Set 3 | port hedland\n",
      "Processing Record 47 of Set 3 | tessalit\n",
      "Processing Record 48 of Set 3 | new norfolk\n",
      "Processing Record 49 of Set 3 | maceio\n",
      "Processing Record 50 of Set 3 | nome\n",
      "Processing Record 51 of Set 3 | coquimbo\n",
      "Processing Record 1 of Set 4 | copiague\n",
      "Processing Record 2 of Set 4 | arraial do cabo\n",
      "City not found. Skipping request...\n",
      "Processing Record 3 of Set 4 | ancud\n",
      "Processing Record 4 of Set 4 | porangatu\n",
      "Processing Record 5 of Set 4 | tabou\n",
      "City not found. Skipping request...\n",
      "Processing Record 6 of Set 4 | puerto ayora\n",
      "Processing Record 7 of Set 4 | san quintin\n",
      "Processing Record 8 of Set 4 | manokwari\n",
      "City not found. Skipping request...\n",
      "Processing Record 9 of Set 4 | nagato\n",
      "Processing Record 10 of Set 4 | provideniya\n",
      "Processing Record 11 of Set 4 | viedma\n",
      "Processing Record 12 of Set 4 | plettenberg bay\n",
      "Processing Record 13 of Set 4 | portland\n",
      "Processing Record 14 of Set 4 | cayenne\n",
      "Processing Record 15 of Set 4 | caborca\n",
      "City not found. Skipping request...\n",
      "Processing Record 16 of Set 4 | port hardy\n",
      "Processing Record 17 of Set 4 | poum\n",
      "Processing Record 18 of Set 4 | shangqiu\n",
      "Processing Record 19 of Set 4 | pietarsaari\n",
      "City not found. Skipping request...\n",
      "Processing Record 20 of Set 4 | horodnytsya\n",
      "Processing Record 21 of Set 4 | bykov\n",
      "Processing Record 22 of Set 4 | vaini\n",
      "Processing Record 23 of Set 4 | pochutla\n",
      "Processing Record 24 of Set 4 | saryozek\n"
     ]
    },
    {
     "name": "stdout",
     "output_type": "stream",
     "text": [
      "Processing Record 25 of Set 4 | pangkalanbuun\n",
      "Processing Record 26 of Set 4 | amapa\n",
      "Processing Record 27 of Set 4 | saint-joseph\n",
      "Processing Record 28 of Set 4 | pangnirtung\n",
      "City not found. Skipping request...\n",
      "Processing Record 29 of Set 4 | pacific grove\n",
      "Processing Record 30 of Set 4 | east london\n",
      "Processing Record 31 of Set 4 | souillac\n",
      "City not found. Skipping request...\n",
      "Processing Record 32 of Set 4 | kalmunai\n",
      "Processing Record 33 of Set 4 | sault sainte marie\n",
      "Processing Record 34 of Set 4 | margate\n",
      "Processing Record 35 of Set 4 | quito\n",
      "Processing Record 36 of Set 4 | hirtshals\n",
      "Processing Record 37 of Set 4 | hobyo\n",
      "Processing Record 38 of Set 4 | santa cruz\n",
      "Processing Record 39 of Set 4 | dubbo\n",
      "Processing Record 40 of Set 4 | synya\n",
      "Processing Record 41 of Set 4 | san rafael del sur\n",
      "Processing Record 42 of Set 4 | podgornoye\n",
      "Processing Record 43 of Set 4 | holbeach\n",
      "Processing Record 44 of Set 4 | mehamn\n",
      "Processing Record 45 of Set 4 | muhos\n",
      "Processing Record 46 of Set 4 | kysyl-syr\n",
      "Processing Record 47 of Set 4 | berezovyy\n",
      "Processing Record 48 of Set 4 | brae\n",
      "Processing Record 49 of Set 4 | sur\n",
      "Processing Record 50 of Set 4 | ixtapa\n",
      "Processing Record 51 of Set 4 | chikwawa\n",
      "Processing Record 1 of Set 5 | yemelyanovo\n",
      "Processing Record 2 of Set 5 | san jeronimo\n",
      "City not found. Skipping request...\n",
      "Processing Record 3 of Set 5 | hunchun\n",
      "Processing Record 4 of Set 5 | pontiac\n",
      "Processing Record 5 of Set 5 | sao filipe\n",
      "Processing Record 6 of Set 5 | katsuura\n",
      "Processing Record 7 of Set 5 | gejiu\n",
      "Processing Record 8 of Set 5 | marawi\n",
      "Processing Record 9 of Set 5 | rognan\n",
      "Processing Record 10 of Set 5 | mecca\n",
      "Processing Record 11 of Set 5 | auki\n",
      "Processing Record 12 of Set 5 | tynset\n",
      "Processing Record 13 of Set 5 | itarema\n",
      "Processing Record 14 of Set 5 | inirida\n",
      "Processing Record 15 of Set 5 | council bluffs\n",
      "Processing Record 16 of Set 5 | konstantinovka\n",
      "Processing Record 17 of Set 5 | korla\n",
      "Processing Record 18 of Set 5 | harboore\n",
      "Processing Record 19 of Set 5 | hasaki\n",
      "Processing Record 20 of Set 5 | peachland\n",
      "Processing Record 21 of Set 5 | port lincoln\n",
      "Processing Record 22 of Set 5 | huarmey\n",
      "Processing Record 23 of Set 5 | bollnas\n",
      "Processing Record 24 of Set 5 | eureka\n",
      "Processing Record 25 of Set 5 | charters towers\n",
      "Processing Record 26 of Set 5 | wanning\n",
      "City not found. Skipping request...\n",
      "Processing Record 27 of Set 5 | hovd\n",
      "Processing Record 28 of Set 5 | mahabad\n",
      "Processing Record 29 of Set 5 | dumas\n",
      "Processing Record 30 of Set 5 | ghanzi\n",
      "Processing Record 31 of Set 5 | ewa beach\n",
      "Processing Record 32 of Set 5 | madaoua\n",
      "Processing Record 33 of Set 5 | kununurra\n",
      "Processing Record 34 of Set 5 | progreso\n",
      "Processing Record 35 of Set 5 | dali\n",
      "Processing Record 36 of Set 5 | kumylzhenskaya\n",
      "Processing Record 37 of Set 5 | fort saint john\n",
      "Processing Record 38 of Set 5 | pakxan\n",
      "Processing Record 39 of Set 5 | vaitape\n",
      "Processing Record 40 of Set 5 | wenling\n",
      "Processing Record 41 of Set 5 | pisco\n",
      "Processing Record 42 of Set 5 | clyde river\n",
      "City not found. Skipping request...\n",
      "Processing Record 43 of Set 5 | santona\n",
      "Processing Record 44 of Set 5 | xudat\n",
      "Processing Record 45 of Set 5 | taltal\n",
      "Processing Record 46 of Set 5 | koungou\n",
      "Processing Record 47 of Set 5 | kulu\n",
      "Processing Record 48 of Set 5 | saldanha\n",
      "Processing Record 49 of Set 5 | bengkulu\n",
      "Processing Record 50 of Set 5 | thaba-tseka\n",
      "Processing Record 51 of Set 5 | alofi\n",
      "City not found. Skipping request...\n",
      "Processing Record 1 of Set 6 | januaria\n",
      "Processing Record 2 of Set 6 | naushki\n",
      "City not found. Skipping request...\n",
      "Processing Record 3 of Set 6 | okhotsk\n",
      "Processing Record 4 of Set 6 | piacabucu\n",
      "Processing Record 5 of Set 6 | ocos\n",
      "Processing Record 6 of Set 6 | mys shmidta\n",
      "Processing Record 7 of Set 6 | tautira\n",
      "Processing Record 8 of Set 6 | bushehr\n",
      "Processing Record 9 of Set 6 | sung noen\n",
      "Processing Record 10 of Set 6 | carbondale\n",
      "City not found. Skipping request...\n",
      "Processing Record 11 of Set 6 | leningradskiy\n",
      "Processing Record 12 of Set 6 | khorixas\n",
      "Processing Record 13 of Set 6 | olkhovka\n",
      "Processing Record 14 of Set 6 | cabedelo\n",
      "Processing Record 15 of Set 6 | sioux lookout\n",
      "City not found. Skipping request...\n",
      "Processing Record 16 of Set 6 | port-cartier\n",
      "Processing Record 17 of Set 6 | wewak\n",
      "Processing Record 18 of Set 6 | joshimath\n",
      "Processing Record 19 of Set 6 | mezen\n",
      "Processing Record 20 of Set 6 | zhangzhou\n",
      "Processing Record 21 of Set 6 | khorinsk\n",
      "Processing Record 22 of Set 6 | aklavik\n",
      "Processing Record 23 of Set 6 | grand river south east\n",
      "Processing Record 24 of Set 6 | kulhudhuffushi\n",
      "Processing Record 25 of Set 6 | aksarka\n",
      "Processing Record 26 of Set 6 | sept-iles\n",
      "Processing Record 27 of Set 6 | aojiang\n",
      "Processing Record 28 of Set 6 | bubaque\n",
      "Processing Record 29 of Set 6 | karratha\n",
      "Processing Record 30 of Set 6 | haines junction\n",
      "Processing Record 31 of Set 6 | bani walid\n",
      "Processing Record 32 of Set 6 | darnah\n",
      "Processing Record 33 of Set 6 | bumba\n",
      "Processing Record 34 of Set 6 | beckley\n",
      "Processing Record 35 of Set 6 | fort nelson\n",
      "Processing Record 36 of Set 6 | wapi pathum\n",
      "Processing Record 37 of Set 6 | denpasar\n",
      "Processing Record 38 of Set 6 | huilong\n",
      "City not found. Skipping request...\n",
      "Processing Record 39 of Set 6 | lorengau\n",
      "Processing Record 40 of Set 6 | ban bung\n",
      "Processing Record 41 of Set 6 | luchegorsk\n",
      "Processing Record 42 of Set 6 | bafia\n",
      "Processing Record 43 of Set 6 | ballarat\n",
      "Processing Record 44 of Set 6 | eirunepe\n",
      "Processing Record 45 of Set 6 | soyo\n",
      "Processing Record 46 of Set 6 | semme\n",
      "Processing Record 47 of Set 6 | matadi\n",
      "Processing Record 48 of Set 6 | port-gentil\n",
      "Processing Record 49 of Set 6 | port macquarie\n",
      "Processing Record 50 of Set 6 | bhainsdehi\n",
      "Processing Record 51 of Set 6 | kisangani\n",
      "City not found. Skipping request...\n",
      "Processing Record 1 of Set 7 | longhua\n",
      "Processing Record 2 of Set 7 | leshukonskoye\n",
      "Processing Record 3 of Set 7 | turiacu\n",
      "Processing Record 4 of Set 7 | sao gabriel da cachoeira\n",
      "Processing Record 5 of Set 7 | waddan\n",
      "Processing Record 6 of Set 7 | trelew\n",
      "Processing Record 7 of Set 7 | mount gambier\n",
      "Processing Record 8 of Set 7 | anloga\n",
      "Processing Record 9 of Set 7 | norman wells\n",
      "Processing Record 10 of Set 7 | iqaluit\n",
      "City not found. Skipping request...\n",
      "Processing Record 11 of Set 7 | merrill\n",
      "Processing Record 12 of Set 7 | luanda\n",
      "Processing Record 13 of Set 7 | ucluelet\n",
      "Processing Record 14 of Set 7 | sanandaj\n",
      "Processing Record 15 of Set 7 | saint-pierre\n",
      "Processing Record 16 of Set 7 | iralaya\n",
      "Processing Record 17 of Set 7 | olafsvik\n",
      "Processing Record 18 of Set 7 | kaura namoda\n",
      "City not found. Skipping request...\n",
      "Processing Record 19 of Set 7 | kutum\n",
      "Processing Record 20 of Set 7 | ilulissat\n",
      "Processing Record 21 of Set 7 | maniitsoq\n",
      "Processing Record 22 of Set 7 | lavrentiya\n",
      "Processing Record 23 of Set 7 | emerald\n",
      "Processing Record 24 of Set 7 | tahoua\n",
      "Processing Record 25 of Set 7 | ayan\n",
      "Processing Record 26 of Set 7 | teknaf\n",
      "Processing Record 27 of Set 7 | vanavara\n",
      "Processing Record 28 of Set 7 | karsun\n",
      "Processing Record 29 of Set 7 | severo-kurilsk\n",
      "Processing Record 30 of Set 7 | launceston\n",
      "Processing Record 31 of Set 7 | kavieng\n",
      "Processing Record 32 of Set 7 | alta floresta\n",
      "Processing Record 33 of Set 7 | faanui\n",
      "Processing Record 34 of Set 7 | lima\n",
      "Processing Record 35 of Set 7 | madera\n",
      "Processing Record 36 of Set 7 | redlands\n",
      "Processing Record 37 of Set 7 | yelizovo\n",
      "Processing Record 38 of Set 7 | price\n",
      "Processing Record 39 of Set 7 | rincon\n",
      "Processing Record 40 of Set 7 | goderich\n",
      "Processing Record 41 of Set 7 | yeppoon\n",
      "Processing Record 42 of Set 7 | manasa\n",
      "Processing Record 43 of Set 7 | petropavlovsk-kamchatskiy\n",
      "Processing Record 44 of Set 7 | san cristobal\n",
      "Processing Record 45 of Set 7 | salme\n",
      "Processing Record 46 of Set 7 | sasvad\n",
      "Processing Record 47 of Set 7 | gat\n",
      "Processing Record 48 of Set 7 | doha\n",
      "Processing Record 49 of Set 7 | moanda\n",
      "Processing Record 50 of Set 7 | isangel\n",
      "Processing Record 51 of Set 7 | mackenzie\n",
      "Processing Record 1 of Set 8 | jaru\n",
      "Processing Record 2 of Set 8 | yanaul\n",
      "Processing Record 3 of Set 8 | nizwa\n",
      "Processing Record 4 of Set 8 | pemangkat\n",
      "Processing Record 5 of Set 8 | ambilobe\n",
      "Processing Record 6 of Set 8 | conway\n",
      "Processing Record 7 of Set 8 | khasan\n",
      "Processing Record 8 of Set 8 | kumo\n",
      "Processing Record 9 of Set 8 | roebourne\n"
     ]
    },
    {
     "name": "stdout",
     "output_type": "stream",
     "text": [
      "Processing Record 10 of Set 8 | ballina\n",
      "Processing Record 11 of Set 8 | ulladulla\n",
      "Processing Record 12 of Set 8 | aksu\n",
      "Processing Record 13 of Set 8 | luba\n",
      "Processing Record 14 of Set 8 | ulaanbaatar\n",
      "Processing Record 15 of Set 8 | privolzhye\n",
      "Processing Record 16 of Set 8 | livny\n",
      "Processing Record 17 of Set 8 | palmer\n",
      "City not found. Skipping request...\n",
      "Processing Record 18 of Set 8 | luau\n",
      "Processing Record 19 of Set 8 | santa lucia\n",
      "Processing Record 20 of Set 8 | gigmoto\n",
      "City not found. Skipping request...\n",
      "Processing Record 21 of Set 8 | sitia\n",
      "Processing Record 22 of Set 8 | yulara\n",
      "Processing Record 23 of Set 8 | mount darwin\n",
      "City not found. Skipping request...\n",
      "Processing Record 24 of Set 8 | alice springs\n",
      "Processing Record 25 of Set 8 | victor harbor\n",
      "Processing Record 26 of Set 8 | erzin\n",
      "Processing Record 27 of Set 8 | muswellbrook\n",
      "City not found. Skipping request...\n",
      "Processing Record 28 of Set 8 | zeya\n",
      "Processing Record 29 of Set 8 | kholmogory\n",
      "Processing Record 30 of Set 8 | sabha\n",
      "Processing Record 31 of Set 8 | udala\n",
      "City not found. Skipping request...\n",
      "Processing Record 32 of Set 8 | vanimo\n",
      "Processing Record 33 of Set 8 | aranos\n",
      "Processing Record 34 of Set 8 | ngunguru\n",
      "Processing Record 35 of Set 8 | teguldet\n",
      "City not found. Skipping request...\n",
      "Processing Record 36 of Set 8 | tinskoy\n",
      "Processing Record 37 of Set 8 | izumo\n",
      "Processing Record 38 of Set 8 | juegang\n",
      "Processing Record 39 of Set 8 | kollam\n",
      "City not found. Skipping request...\n",
      "Processing Record 40 of Set 8 | mayo\n",
      "Processing Record 41 of Set 8 | forio\n",
      "City not found. Skipping request...\n",
      "Processing Record 42 of Set 8 | collie\n",
      "City not found. Skipping request...\n",
      "Processing Record 43 of Set 8 | wad rawah\n",
      "Processing Record 44 of Set 8 | santa helena de goias\n",
      "City not found. Skipping request...\n",
      "Processing Record 45 of Set 8 | kahului\n",
      "Processing Record 46 of Set 8 | kaspiyskiy\n",
      "Processing Record 47 of Set 8 | dingle\n",
      "City not found. Skipping request...\n",
      "Processing Record 48 of Set 8 | namibe\n",
      "City not found. Skipping request...\n",
      "Processing Record 49 of Set 8 | buala\n",
      "Processing Record 50 of Set 8 | rosetta\n",
      "Processing Record 51 of Set 8 | duffel\n",
      "City not found. Skipping request...\n",
      "Processing Record 1 of Set 9 | antofagasta\n",
      "Processing Record 2 of Set 9 | hamadan\n",
      "Processing Record 3 of Set 9 | geraldton\n",
      "Processing Record 4 of Set 9 | dunedin\n",
      "Processing Record 5 of Set 9 | kupang\n",
      "Processing Record 6 of Set 9 | teluk intan\n",
      "Processing Record 7 of Set 9 | kavaratti\n",
      "Processing Record 8 of Set 9 | silopi\n",
      "Processing Record 9 of Set 9 | mizdah\n",
      "Processing Record 10 of Set 9 | kalga\n",
      "City not found. Skipping request...\n",
      "Processing Record 11 of Set 9 | rudsar\n",
      "Processing Record 12 of Set 9 | dholka\n",
      "Processing Record 13 of Set 9 | asau\n",
      "Processing Record 14 of Set 9 | belvidere\n",
      "Processing Record 15 of Set 9 | east haven\n",
      "Processing Record 16 of Set 9 | irece\n",
      "Processing Record 17 of Set 9 | shimoda\n",
      "City not found. Skipping request...\n",
      "City not found. Skipping request...\n",
      "City not found. Skipping request...\n",
      "Processing Record 18 of Set 9 | pasaje\n",
      "Processing Record 19 of Set 9 | atar\n",
      "Processing Record 20 of Set 9 | jalu\n",
      "Processing Record 21 of Set 9 | roswell\n",
      "Processing Record 22 of Set 9 | ozernovskiy\n",
      "City not found. Skipping request...\n",
      "Processing Record 23 of Set 9 | belle fourche\n",
      "City not found. Skipping request...\n",
      "City not found. Skipping request...\n",
      "Processing Record 24 of Set 9 | vila velha\n",
      "Processing Record 25 of Set 9 | tokmak\n",
      "Processing Record 26 of Set 9 | moranbah\n",
      "Processing Record 27 of Set 9 | qaqortoq\n",
      "Processing Record 28 of Set 9 | ossora\n",
      "Processing Record 29 of Set 9 | beringovskiy\n",
      "City not found. Skipping request...\n",
      "Processing Record 30 of Set 9 | narsaq\n",
      "Processing Record 31 of Set 9 | changqing\n",
      "Processing Record 32 of Set 9 | namatanai\n",
      "City not found. Skipping request...\n",
      "Processing Record 33 of Set 9 | ambon\n",
      "Processing Record 34 of Set 9 | debre tabor\n",
      "Processing Record 35 of Set 9 | dubrovnik\n",
      "Processing Record 36 of Set 9 | paramonga\n",
      "Processing Record 37 of Set 9 | smithers\n",
      "Processing Record 38 of Set 9 | san francisco\n",
      "Processing Record 39 of Set 9 | saint-louis\n",
      "Processing Record 40 of Set 9 | san patricio\n",
      "City not found. Skipping request...\n",
      "Processing Record 41 of Set 9 | pringsewu\n",
      "City not found. Skipping request...\n",
      "Processing Record 42 of Set 9 | tubalan\n",
      "Processing Record 43 of Set 9 | taoudenni\n",
      "Processing Record 44 of Set 9 | genhe\n",
      "Processing Record 45 of Set 9 | ketchikan\n",
      "Processing Record 46 of Set 9 | ermelo\n",
      "Processing Record 47 of Set 9 | khorramshahr\n",
      "Processing Record 48 of Set 9 | ponta do sol\n",
      "Processing Record 49 of Set 9 | rocha\n",
      "Processing Record 50 of Set 9 | tapah\n",
      "City not found. Skipping request...\n",
      "Processing Record 51 of Set 9 | taitung\n",
      "Processing Record 1 of Set 10 | tungor\n",
      "Processing Record 2 of Set 10 | andenes\n",
      "Processing Record 3 of Set 10 | nador\n",
      "Processing Record 4 of Set 10 | omsukchan\n",
      "City not found. Skipping request...\n",
      "Processing Record 5 of Set 10 | emba\n",
      "Processing Record 6 of Set 10 | shelabolikha\n",
      "Processing Record 7 of Set 10 | dano\n",
      "Processing Record 8 of Set 10 | mnogovershinnyy\n",
      "Processing Record 9 of Set 10 | severnoye\n",
      "Processing Record 10 of Set 10 | monrovia\n",
      "Processing Record 11 of Set 10 | tricase\n",
      "Processing Record 12 of Set 10 | srednekolymsk\n",
      "Processing Record 13 of Set 10 | camana\n",
      "Processing Record 14 of Set 10 | gamba\n",
      "Processing Record 15 of Set 10 | shache\n",
      "Processing Record 16 of Set 10 | sukhumi\n",
      "Processing Record 17 of Set 10 | petrokamenskoye\n",
      "Processing Record 18 of Set 10 | flinders\n",
      "Processing Record 19 of Set 10 | chapais\n",
      "City not found. Skipping request...\n",
      "Processing Record 20 of Set 10 | dawei\n",
      "Processing Record 21 of Set 10 | kabo\n",
      "Processing Record 22 of Set 10 | sitka\n",
      "City not found. Skipping request...\n",
      "Processing Record 23 of Set 10 | washougal\n",
      "Processing Record 24 of Set 10 | jutai\n",
      "Processing Record 25 of Set 10 | shenjiamen\n",
      "Processing Record 26 of Set 10 | guantanamo\n",
      "Processing Record 27 of Set 10 | kaeo\n",
      "Processing Record 28 of Set 10 | zarubino\n",
      "Processing Record 29 of Set 10 | hervey bay\n",
      "Processing Record 30 of Set 10 | puerto princesa\n",
      "Processing Record 31 of Set 10 | moose factory\n",
      "Processing Record 32 of Set 10 | rio casca\n",
      "Processing Record 33 of Set 10 | formosa\n",
      "Processing Record 34 of Set 10 | jimma\n",
      "Processing Record 35 of Set 10 | nantucket\n",
      "Processing Record 36 of Set 10 | aden\n",
      "Processing Record 37 of Set 10 | nanortalik\n",
      "Processing Record 38 of Set 10 | cotonou\n",
      "Processing Record 39 of Set 10 | vilyuysk\n",
      "Processing Record 40 of Set 10 | tiznit\n",
      "Processing Record 41 of Set 10 | makakilo city\n",
      "Processing Record 42 of Set 10 | miles city\n",
      "Processing Record 43 of Set 10 | maltahohe\n",
      "--------------\n",
      "Data Retrieval Complete\n",
      "--------------\n"
     ]
    }
   ],
   "source": [
    "## Loop through the list of cities and perform a request for data on each\n",
    "for i in cities:\n",
    "    try:\n",
    "        response = requests.get(base_url + i.replace(\" \",\"&\")).json()\n",
    "        temps.append(response['main']['temp_max'])\n",
    "        humidity.append(response['main']['humidity'])\n",
    "        clouds.append(response['clouds']['all'])\n",
    "        winds.append(response['wind']['speed'])\n",
    "        latitudes.append(response['coord']['lat'])\n",
    "        longitudes.append(response['coord']['lon'])\n",
    "        countries.append(response['sys']['country'])\n",
    "        date.append(response['dt'])\n",
    "        if counter > 50:\n",
    "            counter = 1\n",
    "            set_counter += 1\n",
    "            city_list.append(i)\n",
    "        else:\n",
    "            counter += 1\n",
    "            city_list.append(i)\n",
    "        print(f\"Processing Record {counter} of Set {set_counter} | {i}\")\n",
    "    except:\n",
    "        print(\"City not found. Skipping request...\")\n",
    "print(\"--------------\\nData Retrieval Complete\\n--------------\")"
   ]
  },
  {
   "cell_type": "code",
   "execution_count": null,
   "metadata": {
    "scrolled": true
   },
   "outputs": [],
   "source": []
  },
  {
   "cell_type": "markdown",
   "metadata": {},
   "source": [
    "### Convert Raw Data to DataFrame\n",
    "* Export the city data into a .csv.\n",
    "* Display the DataFrame"
   ]
  },
  {
   "cell_type": "code",
   "execution_count": 18,
   "metadata": {},
   "outputs": [],
   "source": [
    "weather_df = pd.DataFrame({\"City\": city_list, \n",
    "                \"Latitude\": latitudes, \n",
    "                \"Longitude\": longitudes, \n",
    "                \"Humidity\": humidity, \n",
    "                \"Max Temp\": temps, \n",
    "                \"Cloudiness\": clouds, \n",
    "                \"Wind Speed\": winds, \n",
    "                \"Country\": countries, \n",
    "                \"Date\": date,\n",
    "                })\n",
    "\n"
   ]
  },
  {
   "cell_type": "code",
   "execution_count": 19,
   "metadata": {},
   "outputs": [
    {
     "data": {
      "text/plain": [
       "City          502\n",
       "Latitude      502\n",
       "Longitude     502\n",
       "Humidity      502\n",
       "Max Temp      502\n",
       "Cloudiness    502\n",
       "Wind Speed    502\n",
       "Country       502\n",
       "Date          502\n",
       "dtype: int64"
      ]
     },
     "execution_count": 19,
     "metadata": {},
     "output_type": "execute_result"
    }
   ],
   "source": [
    "weather_df.count()"
   ]
  },
  {
   "cell_type": "code",
   "execution_count": 20,
   "metadata": {},
   "outputs": [
    {
     "data": {
      "text/html": [
       "<div>\n",
       "<style scoped>\n",
       "    .dataframe tbody tr th:only-of-type {\n",
       "        vertical-align: middle;\n",
       "    }\n",
       "\n",
       "    .dataframe tbody tr th {\n",
       "        vertical-align: top;\n",
       "    }\n",
       "\n",
       "    .dataframe thead th {\n",
       "        text-align: right;\n",
       "    }\n",
       "</style>\n",
       "<table border=\"1\" class=\"dataframe\">\n",
       "  <thead>\n",
       "    <tr style=\"text-align: right;\">\n",
       "      <th></th>\n",
       "      <th>City</th>\n",
       "      <th>Latitude</th>\n",
       "      <th>Longitude</th>\n",
       "      <th>Humidity</th>\n",
       "      <th>Max Temp</th>\n",
       "      <th>Cloudiness</th>\n",
       "      <th>Wind Speed</th>\n",
       "      <th>Country</th>\n",
       "      <th>Date</th>\n",
       "    </tr>\n",
       "  </thead>\n",
       "  <tbody>\n",
       "    <tr>\n",
       "      <th>0</th>\n",
       "      <td>alyangula</td>\n",
       "      <td>-13.8483</td>\n",
       "      <td>136.4192</td>\n",
       "      <td>70</td>\n",
       "      <td>87.80</td>\n",
       "      <td>40</td>\n",
       "      <td>10.36</td>\n",
       "      <td>AU</td>\n",
       "      <td>1619837064</td>\n",
       "    </tr>\n",
       "    <tr>\n",
       "      <th>1</th>\n",
       "      <td>ushuaia</td>\n",
       "      <td>-54.8000</td>\n",
       "      <td>-68.3000</td>\n",
       "      <td>100</td>\n",
       "      <td>37.40</td>\n",
       "      <td>90</td>\n",
       "      <td>2.30</td>\n",
       "      <td>AR</td>\n",
       "      <td>1619837065</td>\n",
       "    </tr>\n",
       "    <tr>\n",
       "      <th>2</th>\n",
       "      <td>port alfred</td>\n",
       "      <td>-7.0349</td>\n",
       "      <td>29.7638</td>\n",
       "      <td>82</td>\n",
       "      <td>71.38</td>\n",
       "      <td>100</td>\n",
       "      <td>3.36</td>\n",
       "      <td>CD</td>\n",
       "      <td>1619837065</td>\n",
       "    </tr>\n",
       "    <tr>\n",
       "      <th>3</th>\n",
       "      <td>hermanus</td>\n",
       "      <td>-34.4187</td>\n",
       "      <td>19.2345</td>\n",
       "      <td>80</td>\n",
       "      <td>53.01</td>\n",
       "      <td>0</td>\n",
       "      <td>1.01</td>\n",
       "      <td>ZA</td>\n",
       "      <td>1619836991</td>\n",
       "    </tr>\n",
       "    <tr>\n",
       "      <th>4</th>\n",
       "      <td>tura</td>\n",
       "      <td>25.5198</td>\n",
       "      <td>90.2201</td>\n",
       "      <td>33</td>\n",
       "      <td>90.59</td>\n",
       "      <td>16</td>\n",
       "      <td>2.37</td>\n",
       "      <td>IN</td>\n",
       "      <td>1619837065</td>\n",
       "    </tr>\n",
       "  </tbody>\n",
       "</table>\n",
       "</div>"
      ],
      "text/plain": [
       "          City  Latitude  Longitude  Humidity  Max Temp  Cloudiness  \\\n",
       "0    alyangula  -13.8483   136.4192        70     87.80          40   \n",
       "1      ushuaia  -54.8000   -68.3000       100     37.40          90   \n",
       "2  port alfred   -7.0349    29.7638        82     71.38         100   \n",
       "3     hermanus  -34.4187    19.2345        80     53.01           0   \n",
       "4         tura   25.5198    90.2201        33     90.59          16   \n",
       "\n",
       "   Wind Speed Country        Date  \n",
       "0       10.36      AU  1619837064  \n",
       "1        2.30      AR  1619837065  \n",
       "2        3.36      CD  1619837065  \n",
       "3        1.01      ZA  1619836991  \n",
       "4        2.37      IN  1619837065  "
      ]
     },
     "execution_count": 20,
     "metadata": {},
     "output_type": "execute_result"
    }
   ],
   "source": [
    "weather_df.head()"
   ]
  },
  {
   "cell_type": "code",
   "execution_count": 21,
   "metadata": {},
   "outputs": [],
   "source": [
    "## export to csv\n",
    "weather_df.to_csv(\"weather_data\")"
   ]
  },
  {
   "cell_type": "markdown",
   "metadata": {},
   "source": [
    "## Inspect the data and remove the cities where the humidity > 100%.\n",
    "----\n",
    "Skip this step if there are no cities that have humidity > 100%. "
   ]
  },
  {
   "cell_type": "code",
   "execution_count": 22,
   "metadata": {},
   "outputs": [
    {
     "data": {
      "text/html": [
       "<div>\n",
       "<style scoped>\n",
       "    .dataframe tbody tr th:only-of-type {\n",
       "        vertical-align: middle;\n",
       "    }\n",
       "\n",
       "    .dataframe tbody tr th {\n",
       "        vertical-align: top;\n",
       "    }\n",
       "\n",
       "    .dataframe thead th {\n",
       "        text-align: right;\n",
       "    }\n",
       "</style>\n",
       "<table border=\"1\" class=\"dataframe\">\n",
       "  <thead>\n",
       "    <tr style=\"text-align: right;\">\n",
       "      <th></th>\n",
       "      <th>Latitude</th>\n",
       "      <th>Longitude</th>\n",
       "      <th>Humidity</th>\n",
       "      <th>Max Temp</th>\n",
       "      <th>Cloudiness</th>\n",
       "      <th>Wind Speed</th>\n",
       "      <th>Date</th>\n",
       "    </tr>\n",
       "  </thead>\n",
       "  <tbody>\n",
       "    <tr>\n",
       "      <th>count</th>\n",
       "      <td>502.000000</td>\n",
       "      <td>502.000000</td>\n",
       "      <td>502.000000</td>\n",
       "      <td>502.000000</td>\n",
       "      <td>502.000000</td>\n",
       "      <td>502.000000</td>\n",
       "      <td>5.020000e+02</td>\n",
       "    </tr>\n",
       "    <tr>\n",
       "      <th>mean</th>\n",
       "      <td>22.685028</td>\n",
       "      <td>20.351882</td>\n",
       "      <td>67.161355</td>\n",
       "      <td>62.161972</td>\n",
       "      <td>54.928287</td>\n",
       "      <td>7.550737</td>\n",
       "      <td>1.619837e+09</td>\n",
       "    </tr>\n",
       "    <tr>\n",
       "      <th>std</th>\n",
       "      <td>31.727158</td>\n",
       "      <td>88.411231</td>\n",
       "      <td>23.227673</td>\n",
       "      <td>19.191397</td>\n",
       "      <td>40.678022</td>\n",
       "      <td>5.412279</td>\n",
       "      <td>6.772935e+01</td>\n",
       "    </tr>\n",
       "    <tr>\n",
       "      <th>min</th>\n",
       "      <td>-54.800000</td>\n",
       "      <td>-175.200000</td>\n",
       "      <td>7.000000</td>\n",
       "      <td>12.200000</td>\n",
       "      <td>0.000000</td>\n",
       "      <td>0.510000</td>\n",
       "      <td>1.619837e+09</td>\n",
       "    </tr>\n",
       "    <tr>\n",
       "      <th>25%</th>\n",
       "      <td>-2.681000</td>\n",
       "      <td>-52.857850</td>\n",
       "      <td>52.000000</td>\n",
       "      <td>48.200000</td>\n",
       "      <td>10.000000</td>\n",
       "      <td>3.440000</td>\n",
       "      <td>1.619837e+09</td>\n",
       "    </tr>\n",
       "    <tr>\n",
       "      <th>50%</th>\n",
       "      <td>28.366800</td>\n",
       "      <td>22.286300</td>\n",
       "      <td>73.000000</td>\n",
       "      <td>66.200000</td>\n",
       "      <td>69.000000</td>\n",
       "      <td>6.140000</td>\n",
       "      <td>1.619837e+09</td>\n",
       "    </tr>\n",
       "    <tr>\n",
       "      <th>75%</th>\n",
       "      <td>48.906275</td>\n",
       "      <td>97.937675</td>\n",
       "      <td>84.000000</td>\n",
       "      <td>78.367500</td>\n",
       "      <td>98.000000</td>\n",
       "      <td>10.007500</td>\n",
       "      <td>1.619837e+09</td>\n",
       "    </tr>\n",
       "    <tr>\n",
       "      <th>max</th>\n",
       "      <td>78.218600</td>\n",
       "      <td>179.316700</td>\n",
       "      <td>100.000000</td>\n",
       "      <td>91.530000</td>\n",
       "      <td>100.000000</td>\n",
       "      <td>31.070000</td>\n",
       "      <td>1.619837e+09</td>\n",
       "    </tr>\n",
       "  </tbody>\n",
       "</table>\n",
       "</div>"
      ],
      "text/plain": [
       "         Latitude   Longitude    Humidity    Max Temp  Cloudiness  Wind Speed  \\\n",
       "count  502.000000  502.000000  502.000000  502.000000  502.000000  502.000000   \n",
       "mean    22.685028   20.351882   67.161355   62.161972   54.928287    7.550737   \n",
       "std     31.727158   88.411231   23.227673   19.191397   40.678022    5.412279   \n",
       "min    -54.800000 -175.200000    7.000000   12.200000    0.000000    0.510000   \n",
       "25%     -2.681000  -52.857850   52.000000   48.200000   10.000000    3.440000   \n",
       "50%     28.366800   22.286300   73.000000   66.200000   69.000000    6.140000   \n",
       "75%     48.906275   97.937675   84.000000   78.367500   98.000000   10.007500   \n",
       "max     78.218600  179.316700  100.000000   91.530000  100.000000   31.070000   \n",
       "\n",
       "               Date  \n",
       "count  5.020000e+02  \n",
       "mean   1.619837e+09  \n",
       "std    6.772935e+01  \n",
       "min    1.619837e+09  \n",
       "25%    1.619837e+09  \n",
       "50%    1.619837e+09  \n",
       "75%    1.619837e+09  \n",
       "max    1.619837e+09  "
      ]
     },
     "execution_count": 22,
     "metadata": {},
     "output_type": "execute_result"
    }
   ],
   "source": [
    "weather_df.describe()"
   ]
  },
  {
   "cell_type": "code",
   "execution_count": 23,
   "metadata": {},
   "outputs": [],
   "source": [
    "#  Get the indices of cities that have humidity over 100%.\n",
    "## Max Humidity in the DataFrame.describe is 100, so I believe none are greater than 100."
   ]
  },
  {
   "cell_type": "code",
   "execution_count": 24,
   "metadata": {},
   "outputs": [],
   "source": [
    "# Make a new DataFrame equal to the city data to drop all humidity outliers by index.\n",
    "# Passing \"inplace=False\" will make a copy of the city_data DataFrame, which we call \"clean_city_data\".\n"
   ]
  },
  {
   "cell_type": "code",
   "execution_count": null,
   "metadata": {},
   "outputs": [],
   "source": [
    "\n"
   ]
  },
  {
   "cell_type": "markdown",
   "metadata": {},
   "source": [
    "## Plotting the Data\n",
    "* Use proper labeling of the plots using plot titles (including date of analysis) and axes labels.\n",
    "* Save the plotted figures as .pngs."
   ]
  },
  {
   "cell_type": "markdown",
   "metadata": {},
   "source": [
    "## Latitude vs. Temperature Plot"
   ]
  },
  {
   "cell_type": "code",
   "execution_count": 25,
   "metadata": {
    "scrolled": true
   },
   "outputs": [
    {
     "data": {
      "image/png": "[encoded data removed]",
      "text/plain": [
       "<Figure size 432x288 with 1 Axes>"
      ]
     },
     "metadata": {
      "needs_background": "light"
     },
     "output_type": "display_data"
    }
   ],
   "source": [
    "x_values = weather_df[\"Latitude\"]\n",
    "y_values = weather_df[\"Max Temp\"]\n",
    "plt.scatter(x_values,y_values, marker= \"o\", edgecolor= \"black\")\n",
    "plt.xlabel(\"Latitude\")\n",
    "plt.ylabel(\"Max Temperature (F)\")\n",
    "plt.title(\"Latitude vs Max Temperature\")\n",
    "plt.grid()\n",
    "\n",
    "# Save figure as .png\n",
    "plt.savefig(\"Latitude vs Max Temperature.png\")\n",
    "\n",
    "plt.show()\n"
   ]
  },
  {
   "cell_type": "markdown",
   "metadata": {},
   "source": [
    "The scatter plot above is analyzing the max temperature values based on distance from the equator (0° Latitude).  The temps rise as you get closer to the equator."
   ]
  },
  {
   "cell_type": "markdown",
   "metadata": {},
   "source": [
    "## Latitude vs. Humidity Plot"
   ]
  },
  {
   "cell_type": "code",
   "execution_count": 26,
   "metadata": {
    "scrolled": false
   },
   "outputs": [
    {
     "data": {
      "image/png": "[encoded data removed]",
      "text/plain": [
       "<Figure size 432x288 with 1 Axes>"
      ]
     },
     "metadata": {
      "needs_background": "light"
     },
     "output_type": "display_data"
    }
   ],
   "source": [
    "x_values = weather_df[\"Latitude\"]\n",
    "y_values = weather_df[\"Humidity\"]\n",
    "plt.scatter(x_values,y_values, marker= \"o\", edgecolor= \"black\", color= \"green\")\n",
    "plt.xlabel(\"Latitude\")\n",
    "plt.ylabel(\"Humidity\")\n",
    "plt.title(\"Latitude vs Humidity\")\n",
    "plt.grid()\n",
    "\n",
    "# Save figure as .png\n",
    "plt.savefig(\"Latitude vs Humidity.png\")\n",
    "\n",
    "plt.show()\n"
   ]
  },
  {
   "cell_type": "markdown",
   "metadata": {},
   "source": [
    "The scatter plot above is analyzing the humidity values based on distance from the equator (0° Latitude).  The humidity levels don't seem to have a clear trend in regards to equator."
   ]
  },
  {
   "cell_type": "markdown",
   "metadata": {},
   "source": [
    "## Latitude vs. Cloudiness Plot"
   ]
  },
  {
   "cell_type": "code",
   "execution_count": 27,
   "metadata": {
    "scrolled": true
   },
   "outputs": [
    {
     "data": {
      "image/png": "[encoded data removed]",
      "text/plain": [
       "<Figure size 432x288 with 1 Axes>"
      ]
     },
     "metadata": {
      "needs_background": "light"
     },
     "output_type": "display_data"
    }
   ],
   "source": [
    "x_values = weather_df[\"Latitude\"]\n",
    "y_values = weather_df[\"Cloudiness\"]\n",
    "plt.scatter(x_values,y_values, marker= \"o\", edgecolor= \"black\", color= \"orange\")\n",
    "plt.xlabel(\"Latitude\")\n",
    "plt.ylabel(\"Cloudiness\")\n",
    "plt.title(\"Latitude vs Cloudiness\")\n",
    "plt.grid()\n",
    "\n",
    "# Save figure as .png\n",
    "plt.savefig(\"Latitude vs Cloudiness.png\")\n",
    "\n",
    "plt.show()\n"
   ]
  },
  {
   "cell_type": "markdown",
   "metadata": {},
   "source": [
    "The scatter plot above is analyzing the cloudiness levels based on distance from the equator (0° Latitude). There looks to be no correlation between the cloudiness and a city's latitude."
   ]
  },
  {
   "cell_type": "markdown",
   "metadata": {},
   "source": [
    "## Latitude vs. Wind Speed Plot"
   ]
  },
  {
   "cell_type": "code",
   "execution_count": 28,
   "metadata": {
    "scrolled": true
   },
   "outputs": [
    {
     "data": {
      "image/png": "[encoded data removed]",
      "text/plain": [
       "<Figure size 432x288 with 1 Axes>"
      ]
     },
     "metadata": {
      "needs_background": "light"
     },
     "output_type": "display_data"
    }
   ],
   "source": [
    "x_values = weather_df[\"Latitude\"]\n",
    "y_values = weather_df[\"Wind Speed\"]\n",
    "plt.scatter(x_values,y_values, marker= \"o\", edgecolor= \"black\", color= \"yellow\")\n",
    "plt.xlabel(\"Latitude\")\n",
    "plt.ylabel(\"Wind Speed\")\n",
    "plt.title(\"Latitude vs Wind Speed\")\n",
    "plt.grid()\n",
    "\n",
    "# Save figure as .png\n",
    "plt.savefig(\"Latitude vs Wind Speed.png\")\n",
    "\n",
    "plt.show()\n"
   ]
  },
  {
   "cell_type": "markdown",
   "metadata": {},
   "source": [
    "The scatter plot above is analyzing the wind speeds based on distance from the equator (0° Latitude). There appears to be no releationship between the wind speed and a city's latitude."
   ]
  },
  {
   "cell_type": "markdown",
   "metadata": {},
   "source": [
    "## Linear Regression"
   ]
  },
  {
   "cell_type": "code",
   "execution_count": 29,
   "metadata": {},
   "outputs": [],
   "source": [
    "## Create a df for both the northern and southern hemispheres\n",
    "northern_df = weather_df.loc[(weather_df[\"Latitude\"] >= 0)]\n",
    "southern_df = weather_df.loc[(weather_df[\"Latitude\"] < 0)]\n"
   ]
  },
  {
   "cell_type": "markdown",
   "metadata": {},
   "source": [
    "####  Northern Hemisphere - Max Temp vs. Latitude Linear Regression"
   ]
  },
  {
   "cell_type": "code",
   "execution_count": 30,
   "metadata": {
    "scrolled": true
   },
   "outputs": [
    {
     "name": "stdout",
     "output_type": "stream",
     "text": [
      "r-squared: -0.8985401607291114\n"
     ]
    },
    {
     "data": {
      "image/png": "[encoded data removed]",
      "text/plain": [
       "<Figure size 432x288 with 1 Axes>"
      ]
     },
     "metadata": {
      "needs_background": "light"
     },
     "output_type": "display_data"
    }
   ],
   "source": [
    "x_values = northern_df[\"Latitude\"]\n",
    "y_values = northern_df[\"Max Temp\"]\n",
    "(slope, intercept, rvalue, pvalue, stderr) = st.linregress(x_values, y_values)\n",
    "regress_values = x_values * slope + intercept\n",
    "line_eq = \"y = \" + str(round(slope,2)) + \"x + \" + str(round(intercept,2))\n",
    "plt.scatter(x_values, y_values, marker= \"o\", edgecolor= \"black\")\n",
    "plt.plot(x_values, regress_values, \"r-\")\n",
    "plt.xlabel(\"Latitude\")\n",
    "plt.ylabel(\"Max Temperature (F)\")\n",
    "print(f\"r-squared: {rvalue}\")\n",
    "\n",
    "# Save figure as .png\n",
    "plt.savefig(\"NH_Latitude_vs_Max_Temp.png\")\n",
    "\n",
    "plt.show()\n"
   ]
  },
  {
   "cell_type": "markdown",
   "metadata": {},
   "source": [
    "####  Southern Hemisphere - Max Temp vs. Latitude Linear Regression"
   ]
  },
  {
   "cell_type": "code",
   "execution_count": 31,
   "metadata": {
    "scrolled": true
   },
   "outputs": [
    {
     "name": "stdout",
     "output_type": "stream",
     "text": [
      "r-squared: 0.6117879154429687\n"
     ]
    },
    {
     "data": {
      "image/png": "[encoded data removed]",
      "text/plain": [
       "<Figure size 432x288 with 1 Axes>"
      ]
     },
     "metadata": {
      "needs_background": "light"
     },
     "output_type": "display_data"
    }
   ],
   "source": [
    "x_values = southern_df[\"Latitude\"]\n",
    "y_values = southern_df[\"Max Temp\"]\n",
    "(slope, intercept, rvalue, pvalue, stderr) = st.linregress(x_values, y_values)\n",
    "regress_values = x_values * slope + intercept\n",
    "line_eq = \"y = \" + str(round(slope,2)) + \"x + \" + str(round(intercept,2))\n",
    "plt.scatter(x_values, y_values, marker= \"o\", edgecolor= \"black\")\n",
    "plt.plot(x_values, regress_values, \"r-\")\n",
    "plt.xlabel(\"Latitude\")\n",
    "plt.ylabel(\"Max Temperature (F)\")\n",
    "print(f\"r-squared: {rvalue}\")\n",
    "\n",
    "# Save figure as .png\n",
    "plt.savefig(\"SH_Latitude_vs_Max_Temp.png\")\n",
    "\n",
    "plt.show()\n"
   ]
  },
  {
   "cell_type": "markdown",
   "metadata": {},
   "source": [
    "Seeing the scatter plots and linear regression for both hemispheres, there is strong relationship between temperature and a city's distance from the equator (0° Latitude).  The Northern Hemisphere's line shows the temperatures decreases as city locations are further from the equator, and the Southern hemisphere's line shows temeratures increasing as city's are closer to the equator."
   ]
  },
  {
   "cell_type": "markdown",
   "metadata": {},
   "source": [
    "####  Northern Hemisphere - Humidity (%) vs. Latitude Linear Regression"
   ]
  },
  {
   "cell_type": "code",
   "execution_count": 32,
   "metadata": {},
   "outputs": [
    {
     "name": "stdout",
     "output_type": "stream",
     "text": [
      "r-squared: 0.22586913153132543\n"
     ]
    },
    {
     "data": {
      "image/png": "[encoded data removed]",
      "text/plain": [
       "<Figure size 432x288 with 1 Axes>"
      ]
     },
     "metadata": {
      "needs_background": "light"
     },
     "output_type": "display_data"
    }
   ],
   "source": [
    "x_values = northern_df[\"Latitude\"]\n",
    "y_values = northern_df[\"Humidity\"]\n",
    "(slope, intercept, rvalue, pvalue, stderr) = st.linregress(x_values, y_values)\n",
    "regress_values = x_values * slope + intercept\n",
    "line_eq = \"y = \" + str(round(slope,2)) + \"x + \" + str(round(intercept,2))\n",
    "plt.scatter(x_values, y_values, marker= \"o\", edgecolor= \"black\", color= \"green\")\n",
    "plt.plot(x_values, regress_values, \"r-\")\n",
    "plt.xlabel(\"Latitude\")\n",
    "plt.ylabel(\"Humidity\")\n",
    "print(f\"r-squared: {rvalue}\")\n",
    "\n",
    "# Save figure as .png\n",
    "plt.savefig(\"NH_Latitude_vs_Humidity.png\")\n",
    "\n",
    "plt.show()\n"
   ]
  },
  {
   "cell_type": "markdown",
   "metadata": {},
   "source": [
    "####  Southern Hemisphere - Humidity (%) vs. Latitude Linear Regression"
   ]
  },
  {
   "cell_type": "code",
   "execution_count": 33,
   "metadata": {
    "scrolled": true
   },
   "outputs": [
    {
     "name": "stdout",
     "output_type": "stream",
     "text": [
      "r-squared: 0.25327009946409\n"
     ]
    },
    {
     "data": {
      "image/png": "[encoded data removed]",
      "text/plain": [
       "<Figure size 432x288 with 1 Axes>"
      ]
     },
     "metadata": {
      "needs_background": "light"
     },
     "output_type": "display_data"
    }
   ],
   "source": [
    "x_values = southern_df[\"Latitude\"]\n",
    "y_values = southern_df[\"Humidity\"]\n",
    "(slope, intercept, rvalue, pvalue, stderr) = st.linregress(x_values, y_values)\n",
    "regress_values = x_values * slope + intercept\n",
    "line_eq = \"y = \" + str(round(slope,2)) + \"x + \" + str(round(intercept,2))\n",
    "plt.scatter(x_values, y_values, marker= \"o\", edgecolor= \"black\", color= \"green\")\n",
    "plt.plot(x_values, regress_values, \"r-\")\n",
    "plt.xlabel(\"Latitude\")\n",
    "plt.ylabel(\"Humidity\")\n",
    "print(f\"r-squared: {rvalue}\")\n",
    "\n",
    "# Save figure as .png\n",
    "plt.savefig(\"SH_Latitude_vs_Humidity.png\")\n",
    "\n",
    "plt.show()\n"
   ]
  },
  {
   "cell_type": "markdown",
   "metadata": {},
   "source": [
    "Based on the line/plots and the r-square scores, the is not a strong correlation between city latitude and humidity level in either hemisphere."
   ]
  },
  {
   "cell_type": "markdown",
   "metadata": {},
   "source": [
    "####  Northern Hemisphere - Cloudiness (%) vs. Latitude Linear Regression"
   ]
  },
  {
   "cell_type": "code",
   "execution_count": 34,
   "metadata": {},
   "outputs": [
    {
     "name": "stdout",
     "output_type": "stream",
     "text": [
      "r-squared: 0.077747933666094\n"
     ]
    },
    {
     "data": {
      "image/png": "[encoded data removed]",
      "text/plain": [
       "<Figure size 432x288 with 1 Axes>"
      ]
     },
     "metadata": {
      "needs_background": "light"
     },
     "output_type": "display_data"
    }
   ],
   "source": [
    "x_values = northern_df[\"Latitude\"]\n",
    "y_values = northern_df[\"Cloudiness\"]\n",
    "(slope, intercept, rvalue, pvalue, stderr) = st.linregress(x_values, y_values)\n",
    "regress_values = x_values * slope + intercept\n",
    "line_eq = \"y = \" + str(round(slope,2)) + \"x + \" + str(round(intercept,2))\n",
    "plt.scatter(x_values, y_values, marker= \"o\", edgecolor= \"black\", color= \"orange\")\n",
    "plt.plot(x_values, regress_values, \"r-\")\n",
    "plt.xlabel(\"Latitude\")\n",
    "plt.ylabel(\"Cloudiness\")\n",
    "print(f\"r-squared: {rvalue}\")\n",
    "\n",
    "# Save figure as .png\n",
    "plt.savefig(\"NH_Latitude_vs_Cloudiness.png\")\n",
    "\n",
    "plt.show()\n"
   ]
  },
  {
   "cell_type": "markdown",
   "metadata": {},
   "source": [
    "####  Southern Hemisphere - Cloudiness (%) vs. Latitude Linear Regression"
   ]
  },
  {
   "cell_type": "code",
   "execution_count": 35,
   "metadata": {
    "scrolled": true
   },
   "outputs": [
    {
     "name": "stdout",
     "output_type": "stream",
     "text": [
      "r-squared: 0.09930227845217951\n"
     ]
    },
    {
     "data": {
      "image/png": "[encoded data removed]",
      "text/plain": [
       "<Figure size 432x288 with 1 Axes>"
      ]
     },
     "metadata": {
      "needs_background": "light"
     },
     "output_type": "display_data"
    }
   ],
   "source": [
    "x_values = southern_df[\"Latitude\"]\n",
    "y_values = southern_df[\"Cloudiness\"]\n",
    "(slope, intercept, rvalue, pvalue, stderr) = st.linregress(x_values, y_values)\n",
    "regress_values = x_values * slope + intercept\n",
    "line_eq = \"y = \" + str(round(slope,2)) + \"x + \" + str(round(intercept,2))\n",
    "plt.scatter(x_values, y_values, marker= \"o\", edgecolor= \"black\", color= \"orange\")\n",
    "plt.plot(x_values, regress_values, \"r-\")\n",
    "plt.xlabel(\"Latitude\")\n",
    "plt.ylabel(\"Cloudiness\")\n",
    "print(f\"r-squared: {rvalue}\")\n",
    "\n",
    "# Save figure as .png\n",
    "plt.savefig(\"SH_Latitude_vs_Cloudiness.png\")\n",
    "\n",
    "plt.show()\n"
   ]
  },
  {
   "cell_type": "markdown",
   "metadata": {},
   "source": [
    "Based on the line/plots and the r-square scores, the is not a strong correlation between city latitude and cloudiness in either hemisphere."
   ]
  },
  {
   "cell_type": "markdown",
   "metadata": {},
   "source": [
    "####  Northern Hemisphere - Wind Speed (mph) vs. Latitude Linear Regression"
   ]
  },
  {
   "cell_type": "code",
   "execution_count": 36,
   "metadata": {},
   "outputs": [
    {
     "name": "stdout",
     "output_type": "stream",
     "text": [
      "r-squared: 0.20181687571178558\n"
     ]
    },
    {
     "data": {
      "image/png": "[encoded data removed]",
      "text/plain": [
       "<Figure size 432x288 with 1 Axes>"
      ]
     },
     "metadata": {
      "needs_background": "light"
     },
     "output_type": "display_data"
    }
   ],
   "source": [
    "x_values = northern_df[\"Latitude\"]\n",
    "y_values = northern_df[\"Wind Speed\"]\n",
    "(slope, intercept, rvalue, pvalue, stderr) = st.linregress(x_values, y_values)\n",
    "regress_values = x_values * slope + intercept\n",
    "line_eq = \"y = \" + str(round(slope,2)) + \"x + \" + str(round(intercept,2))\n",
    "plt.scatter(x_values, y_values, marker= \"o\", edgecolor= \"black\", color= \"yellow\")\n",
    "plt.plot(x_values, regress_values, \"r-\")\n",
    "plt.xlabel(\"Latitude\")\n",
    "plt.ylabel(\"Wind Speed\")\n",
    "print(f\"r-squared: {rvalue}\")\n",
    "\n",
    "# Save figure as .png\n",
    "plt.savefig(\"NH_Latitude_vs_WindSpeed.png\")\n",
    "\n",
    "plt.show()\n"
   ]
  },
  {
   "cell_type": "markdown",
   "metadata": {},
   "source": [
    "####  Southern Hemisphere - Wind Speed (mph) vs. Latitude Linear Regression"
   ]
  },
  {
   "cell_type": "code",
   "execution_count": 37,
   "metadata": {},
   "outputs": [
    {
     "name": "stdout",
     "output_type": "stream",
     "text": [
      "r-squared: -0.23324494014474528\n"
     ]
    },
    {
     "data": {
      "image/png": "[encoded data removed]",
      "text/plain": [
       "<Figure size 432x288 with 1 Axes>"
      ]
     },
     "metadata": {
      "needs_background": "light"
     },
     "output_type": "display_data"
    }
   ],
   "source": [
    "x_values = southern_df[\"Latitude\"]\n",
    "y_values = southern_df[\"Wind Speed\"]\n",
    "(slope, intercept, rvalue, pvalue, stderr) = st.linregress(x_values, y_values)\n",
    "regress_values = x_values * slope + intercept\n",
    "line_eq = \"y = \" + str(round(slope,2)) + \"x + \" + str(round(intercept,2))\n",
    "plt.scatter(x_values, y_values, marker= \"o\", edgecolor= \"black\", color= \"yellow\")\n",
    "plt.plot(x_values, regress_values, \"r-\")\n",
    "plt.xlabel(\"Latitude\")\n",
    "plt.ylabel(\"Wind Speed\")\n",
    "print(f\"r-squared: {rvalue}\")\n",
    "\n",
    "# Save figure as .png\n",
    "plt.savefig(\"SH_Latitude_vs_WindSpeed.png\")\n",
    "\n",
    "plt.show()\n"
   ]
  },
  {
   "cell_type": "markdown",
   "metadata": {},
   "source": [
    "Based on the line/plots and the r-square scores, the is not a strong correlation between city latitude and wind speeds in either hemisphere."
   ]
  },
  {
   "cell_type": "code",
   "execution_count": null,
   "metadata": {},
   "outputs": [],
   "source": []
  }
 ],
 "metadata": {
  "anaconda-cloud": {},
  "kernel_info": {
   "name": "python3"
  },
  "kernelspec": {
   "display_name": "Python 3",
   "language": "python",
   "name": "python3"
  },
  "language_info": {
   "codemirror_mode": {
    "name": "ipython",
    "version": 3
   },
   "file_extension": ".py",
   "mimetype": "text/x-python",
   "name": "python",
   "nbconvert_exporter": "python",
   "pygments_lexer": "ipython3",
   "version": "3.6.13"
  },
  "latex_envs": {
   "LaTeX_envs_menu_present": true,
   "autoclose": false,
   "autocomplete": true,
   "bibliofile": "biblio.bib",
   "cite_by": "apalike",
   "current_citInitial": 1,
   "eqLabelWithNumbers": true,
   "eqNumInitial": 1,
   "hotkeys": {
    "equation": "Ctrl-E",
    "itemize": "Ctrl-I"
   },
   "labels_anchors": false,
   "latex_user_defs": false,
   "report_style_numbering": false,
   "user_envs_cfg": false
  },
  "nteract": {
   "version": "0.12.3"
  }
 },
 "nbformat": 4,
 "nbformat_minor": 2
}

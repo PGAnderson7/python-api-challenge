{
 "cells": [
  {
   "cell_type": "markdown",
   "metadata": {},
   "source": [
    "# WeatherPy\n",
    "----\n",
    "\n",
    "#### Note\n",
    "* Instructions have been included for each segment. You do not have to follow them exactly, but they are included to help you think through the steps."
   ]
  },
  {
   "cell_type": "code",
   "execution_count": 2,
   "metadata": {
    "scrolled": true
   },
   "outputs": [],
   "source": [
    "## Import Dependencies\n",
    "import matplotlib.pyplot as plt\n",
    "import scipy.stats as st\n",
    "import pandas as pd\n",
    "import numpy as np\n",
    "import requests\n",
    "import time\n"
   ]
  },
  {
   "cell_type": "code",
   "execution_count": 3,
   "metadata": {},
   "outputs": [],
   "source": [
    "## Weather API key\n",
    "from api_keys import weather_api_key"
   ]
  },
  {
   "cell_type": "code",
   "execution_count": 4,
   "metadata": {},
   "outputs": [],
   "source": [
    "## Import citipy\n",
    "from citipy import citipy"
   ]
  },
  {
   "cell_type": "markdown",
   "metadata": {},
   "source": [
    "## Generate Cities List"
   ]
  },
  {
   "cell_type": "code",
   "execution_count": 5,
   "metadata": {},
   "outputs": [],
   "source": [
    "## Latitude and longitude ranges\n",
    "lat_range = (-90, 90)\n",
    "lng_range = (-180, 180)\n",
    "\n",
    "## Cities list and latitudes-longitudes list\n",
    "cities = []\n",
    "lats_lngs_list = []\n"
   ]
  },
  {
   "cell_type": "code",
   "execution_count": 6,
   "metadata": {},
   "outputs": [],
   "source": [
    "## Radomize latitudes and longitudes, and set combinations\n",
    "lats = np.random.uniform(lat_range[0], lat_range[1], size = 1300)\n",
    "lngs = np.random.uniform(lng_range[0], lng_range[1], size = 1300)\n",
    "lats_lngs_list = zip(lats,lngs)"
   ]
  },
  {
   "cell_type": "code",
   "execution_count": 7,
   "metadata": {},
   "outputs": [
    {
     "name": "stdout",
     "output_type": "stream",
     "text": [
      "557\n"
     ]
    }
   ],
   "source": [
    "## Find nearest city for latitude and longitude combination using citipy\n",
    "for i in lats_lngs_list:\n",
    "    city = citipy.nearest_city(i[0], i[1]).city_name\n",
    "    \n",
    "    ## If city is unique, add it to the cities list\n",
    "    if city not in cities:\n",
    "        cities.append(city)\n",
    "        \n",
    "## Confirm count is above 500\n",
    "print(len(cities))"
   ]
  },
  {
   "cell_type": "markdown",
   "metadata": {},
   "source": [
    "### Perform API Calls\n",
    "* Perform a weather check on each city using a series of successive API calls.\n",
    "* Include a print log of each city as it'sbeing processed (with the city number and city name).\n"
   ]
  },
  {
   "cell_type": "code",
   "execution_count": 8,
   "metadata": {},
   "outputs": [],
   "source": [
    "## Perform a weather check on each city\n",
    "\n",
    "## Set up lists to hold reponse info\n",
    "city_list = []\n",
    "temps = []\n",
    "humidity = []\n",
    "clouds = []\n",
    "winds = []\n",
    "latitudes = []\n",
    "longitudes = []\n",
    "countries = []\n",
    "date = []"
   ]
  },
  {
   "cell_type": "code",
   "execution_count": 9,
   "metadata": {},
   "outputs": [],
   "source": [
    "## Set URL and Units\n",
    "#url = \"https://openweathermap.org/api\"\n",
    "units = \"imperial\"\n",
    "base_url = f'http://api.openweathermap.org/data/2.5/weather?appid={weather_api_key}&units={units}&q='\n"
   ]
  },
  {
   "cell_type": "code",
   "execution_count": 10,
   "metadata": {},
   "outputs": [],
   "source": [
    "## Loop counters\n",
    "counter = 0\n",
    "set_counter = 1"
   ]
  },
  {
   "cell_type": "code",
   "execution_count": 11,
   "metadata": {},
   "outputs": [
    {
     "name": "stdout",
     "output_type": "stream",
     "text": [
      "Processing Record 1 of Set 1 | hobart\n",
      "Processing Record 2 of Set 1 | fortuna\n",
      "Processing Record 3 of Set 1 | upernavik\n",
      "Processing Record 4 of Set 1 | faanui\n",
      "Processing Record 5 of Set 1 | seabra\n",
      "Processing Record 6 of Set 1 | bermeo\n",
      "Processing Record 7 of Set 1 | kapaa\n",
      "Processing Record 8 of Set 1 | thompson\n",
      "Processing Record 9 of Set 1 | busselton\n",
      "Processing Record 10 of Set 1 | lagoa\n",
      "Processing Record 11 of Set 1 | bredasdorp\n",
      "Processing Record 12 of Set 1 | ayan\n",
      "Processing Record 13 of Set 1 | kavieng\n",
      "Processing Record 14 of Set 1 | kruisfontein\n",
      "Processing Record 15 of Set 1 | punta arenas\n",
      "City not found. Skipping request...\n",
      "Processing Record 16 of Set 1 | clearwater\n",
      "Processing Record 17 of Set 1 | brigantine\n",
      "Processing Record 18 of Set 1 | hamilton\n",
      "Processing Record 19 of Set 1 | meulaboh\n",
      "Processing Record 20 of Set 1 | ketchikan\n",
      "Processing Record 21 of Set 1 | cape town\n",
      "Processing Record 22 of Set 1 | isangel\n",
      "Processing Record 23 of Set 1 | bin qirdan\n",
      "City not found. Skipping request...\n",
      "Processing Record 24 of Set 1 | bethel\n",
      "Processing Record 25 of Set 1 | karacakoy\n",
      "City not found. Skipping request...\n",
      "Processing Record 26 of Set 1 | ribeira grande\n",
      "Processing Record 27 of Set 1 | hambantota\n",
      "City not found. Skipping request...\n",
      "Processing Record 28 of Set 1 | namatanai\n",
      "Processing Record 29 of Set 1 | yellowknife\n",
      "Processing Record 30 of Set 1 | qaanaaq\n",
      "Processing Record 31 of Set 1 | yalutorovsk\n",
      "Processing Record 32 of Set 1 | tuatapere\n",
      "Processing Record 33 of Set 1 | tiksi\n",
      "Processing Record 34 of Set 1 | ushuaia\n",
      "Processing Record 35 of Set 1 | namibe\n",
      "Processing Record 36 of Set 1 | castro\n",
      "Processing Record 37 of Set 1 | chokurdakh\n",
      "Processing Record 38 of Set 1 | mao\n",
      "City not found. Skipping request...\n",
      "Processing Record 39 of Set 1 | wajid\n",
      "Processing Record 40 of Set 1 | saskylakh\n",
      "Processing Record 41 of Set 1 | sao filipe\n",
      "Processing Record 42 of Set 1 | rawson\n",
      "Processing Record 43 of Set 1 | grand gaube\n",
      "Processing Record 44 of Set 1 | merke\n",
      "Processing Record 45 of Set 1 | souillac\n",
      "Processing Record 46 of Set 1 | dikson\n",
      "Processing Record 47 of Set 1 | lanivtsi\n",
      "City not found. Skipping request...\n",
      "Processing Record 48 of Set 1 | iquitos\n",
      "Processing Record 49 of Set 1 | port alfred\n",
      "Processing Record 50 of Set 1 | mataura\n",
      "Processing Record 51 of Set 1 | rikitea\n",
      "Processing Record 1 of Set 2 | baker city\n",
      "Processing Record 2 of Set 2 | hermanus\n",
      "Processing Record 3 of Set 2 | lorengau\n",
      "Processing Record 4 of Set 2 | buala\n",
      "Processing Record 5 of Set 2 | lata\n",
      "Processing Record 6 of Set 2 | gorgan\n",
      "Processing Record 7 of Set 2 | jamestown\n",
      "Processing Record 8 of Set 2 | hami\n",
      "Processing Record 9 of Set 2 | khatanga\n",
      "Processing Record 10 of Set 2 | aykhal\n",
      "Processing Record 11 of Set 2 | mys shmidta\n",
      "Processing Record 12 of Set 2 | huainan\n",
      "Processing Record 13 of Set 2 | airai\n",
      "Processing Record 14 of Set 2 | provideniya\n",
      "Processing Record 15 of Set 2 | ulaangom\n",
      "Processing Record 16 of Set 2 | port elizabeth\n",
      "Processing Record 17 of Set 2 | maumere\n",
      "Processing Record 18 of Set 2 | lompoc\n",
      "Processing Record 19 of Set 2 | kushmurun\n",
      "Processing Record 20 of Set 2 | timizart\n",
      "Processing Record 21 of Set 2 | vaini\n",
      "Processing Record 22 of Set 2 | northam\n",
      "Processing Record 23 of Set 2 | sitka\n",
      "Processing Record 24 of Set 2 | miquelon\n",
      "Processing Record 25 of Set 2 | hithadhoo\n",
      "Processing Record 26 of Set 2 | fort wellington\n",
      "Processing Record 27 of Set 2 | albany\n",
      "City not found. Skipping request...\n",
      "Processing Record 28 of Set 2 | sao felix do xingu\n",
      "Processing Record 29 of Set 2 | khandyga\n",
      "Processing Record 30 of Set 2 | les cayes\n",
      "Processing Record 31 of Set 2 | kodiak\n",
      "Processing Record 32 of Set 2 | rawlins\n",
      "Processing Record 33 of Set 2 | nikolskoye\n",
      "Processing Record 34 of Set 2 | virginia beach\n",
      "City not found. Skipping request...\n",
      "Processing Record 35 of Set 2 | puerto ayora\n",
      "Processing Record 36 of Set 2 | sorland\n",
      "Processing Record 37 of Set 2 | anadyr\n",
      "City not found. Skipping request...\n",
      "Processing Record 38 of Set 2 | san policarpo\n",
      "Processing Record 39 of Set 2 | hlobyne\n",
      "Processing Record 40 of Set 2 | hilo\n",
      "Processing Record 41 of Set 2 | torbay\n",
      "City not found. Skipping request...\n",
      "Processing Record 42 of Set 2 | tuktoyaktuk\n",
      "Processing Record 43 of Set 2 | cedar city\n",
      "Processing Record 44 of Set 2 | mufumbwe\n",
      "Processing Record 45 of Set 2 | vardo\n",
      "Processing Record 46 of Set 2 | savannah bight\n",
      "City not found. Skipping request...\n",
      "Processing Record 47 of Set 2 | omboue\n",
      "Processing Record 48 of Set 2 | pisco\n",
      "Processing Record 49 of Set 2 | saint-leu\n",
      "Processing Record 50 of Set 2 | salalah\n",
      "City not found. Skipping request...\n",
      "Processing Record 51 of Set 2 | comodoro rivadavia\n",
      "Processing Record 1 of Set 3 | cherkasskoye\n",
      "Processing Record 2 of Set 3 | georgetown\n",
      "Processing Record 3 of Set 3 | bowmore\n",
      "Processing Record 4 of Set 3 | khuzhir\n",
      "Processing Record 5 of Set 3 | gamba\n",
      "Processing Record 6 of Set 3 | san francisco\n",
      "Processing Record 7 of Set 3 | kaitangata\n",
      "Processing Record 8 of Set 3 | san quintin\n",
      "Processing Record 9 of Set 3 | klaksvik\n",
      "Processing Record 10 of Set 3 | butaritari\n",
      "Processing Record 11 of Set 3 | elliot lake\n",
      "Processing Record 12 of Set 3 | havoysund\n",
      "Processing Record 13 of Set 3 | beipiao\n",
      "Processing Record 14 of Set 3 | otradnoye\n",
      "Processing Record 15 of Set 3 | kodinsk\n",
      "City not found. Skipping request...\n",
      "Processing Record 16 of Set 3 | porto walter\n",
      "Processing Record 17 of Set 3 | avarua\n",
      "Processing Record 18 of Set 3 | norman wells\n",
      "Processing Record 19 of Set 3 | tarakan\n",
      "Processing Record 20 of Set 3 | nanortalik\n",
      "Processing Record 21 of Set 3 | sept-iles\n",
      "Processing Record 22 of Set 3 | paracuru\n",
      "Processing Record 23 of Set 3 | omsukchan\n",
      "Processing Record 24 of Set 3 | karratha\n",
      "Processing Record 25 of Set 3 | san cristobal\n",
      "Processing Record 26 of Set 3 | aklavik\n",
      "Processing Record 27 of Set 3 | pipri\n",
      "Processing Record 28 of Set 3 | antofagasta\n",
      "Processing Record 29 of Set 3 | robertsport\n",
      "Processing Record 30 of Set 3 | byron bay\n",
      "Processing Record 31 of Set 3 | laksham\n",
      "Processing Record 32 of Set 3 | kahului\n",
      "Processing Record 33 of Set 3 | lavrentiya\n",
      "Processing Record 34 of Set 3 | acapulco\n",
      "Processing Record 35 of Set 3 | kirkenes\n",
      "Processing Record 36 of Set 3 | aguilas\n",
      "Processing Record 37 of Set 3 | lebu\n",
      "Processing Record 38 of Set 3 | anyama\n",
      "Processing Record 39 of Set 3 | severo-kurilsk\n",
      "Processing Record 40 of Set 3 | broome\n",
      "Processing Record 41 of Set 3 | carmaux\n",
      "Processing Record 42 of Set 3 | loiza\n",
      "City not found. Skipping request...\n",
      "Processing Record 43 of Set 3 | arraial do cabo\n",
      "Processing Record 44 of Set 3 | edd\n",
      "Processing Record 45 of Set 3 | bambous virieux\n",
      "Processing Record 46 of Set 3 | east london\n",
      "Processing Record 47 of Set 3 | buta\n",
      "Processing Record 48 of Set 3 | victoria\n",
      "Processing Record 49 of Set 3 | bluff\n",
      "Processing Record 50 of Set 3 | kutum\n",
      "Processing Record 51 of Set 3 | puerto baquerizo moreno\n",
      "Processing Record 1 of Set 4 | half moon bay\n",
      "Processing Record 2 of Set 4 | rebrikha\n",
      "Processing Record 3 of Set 4 | nabire\n",
      "Processing Record 4 of Set 4 | cidreira\n",
      "Processing Record 5 of Set 4 | ratnagiri\n",
      "Processing Record 6 of Set 4 | ulaanbaatar\n",
      "Processing Record 7 of Set 4 | larsnes\n",
      "Processing Record 8 of Set 4 | tessalit\n",
      "Processing Record 9 of Set 4 | grand river south east\n",
      "Processing Record 10 of Set 4 | chicama\n",
      "Processing Record 11 of Set 4 | portel\n",
      "Processing Record 12 of Set 4 | vestmannaeyjar\n",
      "Processing Record 13 of Set 4 | matara\n",
      "Processing Record 14 of Set 4 | bambanglipuro\n",
      "Processing Record 15 of Set 4 | sabha\n",
      "Processing Record 16 of Set 4 | atuona\n",
      "Processing Record 17 of Set 4 | cockburn town\n",
      "Processing Record 18 of Set 4 | barrow\n",
      "Processing Record 19 of Set 4 | port-gentil\n",
      "Processing Record 20 of Set 4 | gillette\n",
      "Processing Record 21 of Set 4 | faya\n",
      "Processing Record 22 of Set 4 | kupang\n",
      "City not found. Skipping request...\n",
      "Processing Record 23 of Set 4 | araxa\n",
      "Processing Record 24 of Set 4 | ossora\n",
      "Processing Record 25 of Set 4 | cayenne\n",
      "Processing Record 26 of Set 4 | araouane\n",
      "Processing Record 27 of Set 4 | bilibino\n",
      "Processing Record 28 of Set 4 | cherskiy\n",
      "Processing Record 29 of Set 4 | ibra\n",
      "Processing Record 30 of Set 4 | oranjemund\n",
      "Processing Record 31 of Set 4 | avera\n",
      "Processing Record 32 of Set 4 | karwar\n",
      "City not found. Skipping request...\n"
     ]
    },
    {
     "name": "stdout",
     "output_type": "stream",
     "text": [
      "Processing Record 33 of Set 4 | zyryanka\n",
      "Processing Record 34 of Set 4 | campbell river\n",
      "Processing Record 35 of Set 4 | luxor\n",
      "Processing Record 36 of Set 4 | padang\n",
      "Processing Record 37 of Set 4 | kamenica\n",
      "City not found. Skipping request...\n",
      "Processing Record 38 of Set 4 | beringovskiy\n",
      "Processing Record 39 of Set 4 | dawei\n",
      "City not found. Skipping request...\n",
      "Processing Record 40 of Set 4 | fowa\n",
      "Processing Record 41 of Set 4 | jacareacanga\n",
      "Processing Record 42 of Set 4 | constitucion\n",
      "City not found. Skipping request...\n",
      "Processing Record 43 of Set 4 | tevriz\n",
      "Processing Record 44 of Set 4 | dracena\n",
      "City not found. Skipping request...\n",
      "Processing Record 45 of Set 4 | okha\n",
      "Processing Record 46 of Set 4 | marmarion\n",
      "Processing Record 47 of Set 4 | kailaras\n",
      "Processing Record 48 of Set 4 | new norfolk\n",
      "Processing Record 49 of Set 4 | saint-philippe\n",
      "Processing Record 50 of Set 4 | nisia floresta\n",
      "Processing Record 51 of Set 4 | alofi\n",
      "City not found. Skipping request...\n",
      "Processing Record 1 of Set 5 | mabaruma\n",
      "Processing Record 2 of Set 5 | carmen\n",
      "Processing Record 3 of Set 5 | charters towers\n",
      "Processing Record 4 of Set 5 | urusha\n",
      "Processing Record 5 of Set 5 | ponta do sol\n",
      "Processing Record 6 of Set 5 | west bay\n",
      "Processing Record 7 of Set 5 | talnakh\n",
      "Processing Record 8 of Set 5 | belyy yar\n",
      "City not found. Skipping request...\n",
      "Processing Record 9 of Set 5 | sibolga\n",
      "Processing Record 10 of Set 5 | goianesia\n",
      "Processing Record 11 of Set 5 | kaeo\n",
      "City not found. Skipping request...\n",
      "Processing Record 12 of Set 5 | saint-pierre\n",
      "Processing Record 13 of Set 5 | samana\n",
      "Processing Record 14 of Set 5 | geraldton\n",
      "Processing Record 15 of Set 5 | sakakah\n",
      "Processing Record 16 of Set 5 | kolomak\n",
      "Processing Record 17 of Set 5 | krasnoselkup\n",
      "Processing Record 18 of Set 5 | bud\n",
      "Processing Record 19 of Set 5 | tasiilaq\n",
      "Processing Record 20 of Set 5 | oranjestad\n",
      "Processing Record 21 of Set 5 | vao\n",
      "Processing Record 22 of Set 5 | kathu\n",
      "Processing Record 23 of Set 5 | marzuq\n",
      "Processing Record 24 of Set 5 | fenoarivo\n",
      "City not found. Skipping request...\n",
      "Processing Record 25 of Set 5 | tubuala\n",
      "Processing Record 26 of Set 5 | kismayo\n",
      "Processing Record 27 of Set 5 | narsaq\n",
      "Processing Record 28 of Set 5 | leeton\n",
      "Processing Record 29 of Set 5 | asau\n",
      "City not found. Skipping request...\n",
      "Processing Record 30 of Set 5 | nova lima\n",
      "Processing Record 31 of Set 5 | arlit\n",
      "Processing Record 32 of Set 5 | palauig\n",
      "Processing Record 33 of Set 5 | moose factory\n",
      "Processing Record 34 of Set 5 | murchison\n",
      "Processing Record 35 of Set 5 | uyemskiy\n",
      "Processing Record 36 of Set 5 | mount isa\n",
      "Processing Record 37 of Set 5 | tilichiki\n",
      "Processing Record 38 of Set 5 | port blair\n",
      "Processing Record 39 of Set 5 | flinders\n",
      "Processing Record 40 of Set 5 | talcahuano\n",
      "Processing Record 41 of Set 5 | meridian\n",
      "Processing Record 42 of Set 5 | luena\n",
      "Processing Record 43 of Set 5 | hasaki\n",
      "Processing Record 44 of Set 5 | komsomolskiy\n",
      "Processing Record 45 of Set 5 | igboho\n",
      "Processing Record 46 of Set 5 | garca\n",
      "Processing Record 47 of Set 5 | menongue\n",
      "Processing Record 48 of Set 5 | waipawa\n",
      "Processing Record 49 of Set 5 | leningradskiy\n",
      "Processing Record 50 of Set 5 | lochem\n",
      "Processing Record 51 of Set 5 | lampang\n",
      "City not found. Skipping request...\n",
      "Processing Record 1 of Set 6 | coruripe\n",
      "City not found. Skipping request...\n",
      "Processing Record 2 of Set 6 | maceio\n",
      "Processing Record 3 of Set 6 | suchiapa\n",
      "Processing Record 4 of Set 6 | rupert\n",
      "Processing Record 5 of Set 6 | jalu\n",
      "Processing Record 6 of Set 6 | axim\n",
      "Processing Record 7 of Set 6 | harnosand\n",
      "Processing Record 8 of Set 6 | verkhoyansk\n",
      "Processing Record 9 of Set 6 | marawi\n",
      "Processing Record 10 of Set 6 | nishihara\n",
      "City not found. Skipping request...\n",
      "Processing Record 11 of Set 6 | kapuskasing\n",
      "Processing Record 12 of Set 6 | iqaluit\n",
      "Processing Record 13 of Set 6 | bubaque\n",
      "Processing Record 14 of Set 6 | hovd\n",
      "Processing Record 15 of Set 6 | cabo san lucas\n",
      "Processing Record 16 of Set 6 | vostok\n",
      "Processing Record 17 of Set 6 | vitim\n",
      "Processing Record 18 of Set 6 | verkhnevilyuysk\n",
      "Processing Record 19 of Set 6 | jatiroto\n",
      "Processing Record 20 of Set 6 | kilindoni\n",
      "Processing Record 21 of Set 6 | olinda\n",
      "Processing Record 22 of Set 6 | katunino\n",
      "City not found. Skipping request...\n",
      "Processing Record 23 of Set 6 | kinsale\n",
      "Processing Record 24 of Set 6 | kokuy\n",
      "Processing Record 25 of Set 6 | touros\n",
      "Processing Record 26 of Set 6 | san patricio\n",
      "Processing Record 27 of Set 6 | mar del plata\n",
      "Processing Record 28 of Set 6 | nemuro\n",
      "City not found. Skipping request...\n",
      "Processing Record 29 of Set 6 | ostrovnoy\n",
      "Processing Record 30 of Set 6 | pacific grove\n",
      "Processing Record 31 of Set 6 | opuwo\n",
      "Processing Record 32 of Set 6 | saint-ambroise\n",
      "Processing Record 33 of Set 6 | moorhead\n",
      "Processing Record 34 of Set 6 | khvorostyanka\n",
      "Processing Record 35 of Set 6 | college\n",
      "Processing Record 36 of Set 6 | mayo\n",
      "Processing Record 37 of Set 6 | stawell\n",
      "Processing Record 38 of Set 6 | tabriz\n",
      "Processing Record 39 of Set 6 | buraydah\n",
      "Processing Record 40 of Set 6 | richards bay\n",
      "Processing Record 41 of Set 6 | vila franca do campo\n",
      "Processing Record 42 of Set 6 | azacualpa\n",
      "City not found. Skipping request...\n",
      "Processing Record 43 of Set 6 | tombouctou\n",
      "Processing Record 44 of Set 6 | juneau\n",
      "Processing Record 45 of Set 6 | colesberg\n",
      "Processing Record 46 of Set 6 | mahebourg\n",
      "Processing Record 47 of Set 6 | meiringen\n",
      "Processing Record 48 of Set 6 | vuktyl\n",
      "City not found. Skipping request...\n",
      "City not found. Skipping request...\n",
      "Processing Record 49 of Set 6 | tias\n",
      "Processing Record 50 of Set 6 | kargasok\n",
      "Processing Record 51 of Set 6 | aykino\n",
      "Processing Record 1 of Set 7 | andenes\n",
      "City not found. Skipping request...\n",
      "City not found. Skipping request...\n",
      "Processing Record 2 of Set 7 | qui nhon\n",
      "Processing Record 3 of Set 7 | saint-louis\n",
      "Processing Record 4 of Set 7 | honiara\n",
      "Processing Record 5 of Set 7 | pevek\n",
      "Processing Record 6 of Set 7 | taraz\n",
      "Processing Record 7 of Set 7 | barcelona\n",
      "Processing Record 8 of Set 7 | coahuayana\n",
      "Processing Record 9 of Set 7 | arkhangelsk\n",
      "Processing Record 10 of Set 7 | port keats\n",
      "Processing Record 11 of Set 7 | auki\n",
      "Processing Record 12 of Set 7 | sainte-marie\n",
      "Processing Record 13 of Set 7 | champerico\n",
      "Processing Record 14 of Set 7 | klyuchi\n",
      "Processing Record 15 of Set 7 | coquimbo\n",
      "Processing Record 16 of Set 7 | colares\n",
      "Processing Record 17 of Set 7 | shenjiamen\n",
      "Processing Record 18 of Set 7 | atar\n",
      "Processing Record 19 of Set 7 | kamalpur\n",
      "Processing Record 20 of Set 7 | mtimbira\n",
      "Processing Record 21 of Set 7 | anloga\n",
      "Processing Record 22 of Set 7 | gat\n",
      "Processing Record 23 of Set 7 | zhangye\n",
      "City not found. Skipping request...\n",
      "Processing Record 24 of Set 7 | mount gambier\n",
      "Processing Record 25 of Set 7 | fianarantsoa\n",
      "Processing Record 26 of Set 7 | pelym\n",
      "Processing Record 27 of Set 7 | orocue\n",
      "Processing Record 28 of Set 7 | dingle\n",
      "Processing Record 29 of Set 7 | toszeg\n",
      "Processing Record 30 of Set 7 | malakal\n",
      "Processing Record 31 of Set 7 | pangody\n",
      "Processing Record 32 of Set 7 | ewa beach\n",
      "Processing Record 33 of Set 7 | loveland\n",
      "Processing Record 34 of Set 7 | hualmay\n",
      "Processing Record 35 of Set 7 | ancud\n",
      "Processing Record 36 of Set 7 | san pedro de ycuamandiyu\n",
      "Processing Record 37 of Set 7 | vetluzhskiy\n",
      "Processing Record 38 of Set 7 | rutland\n",
      "Processing Record 39 of Set 7 | swindon\n",
      "Processing Record 40 of Set 7 | hofn\n",
      "Processing Record 41 of Set 7 | ternate\n",
      "Processing Record 42 of Set 7 | yulara\n",
      "Processing Record 43 of Set 7 | camana\n",
      "Processing Record 44 of Set 7 | havre-saint-pierre\n",
      "Processing Record 45 of Set 7 | beaver falls\n",
      "Processing Record 46 of Set 7 | tucumcari\n",
      "Processing Record 47 of Set 7 | williston\n",
      "City not found. Skipping request...\n",
      "Processing Record 48 of Set 7 | tarko-sale\n",
      "Processing Record 49 of Set 7 | palu\n",
      "Processing Record 50 of Set 7 | miandoab\n",
      "Processing Record 51 of Set 7 | ahuimanu\n",
      "Processing Record 1 of Set 8 | englewood\n",
      "Processing Record 2 of Set 8 | papara\n",
      "Processing Record 3 of Set 8 | san matias\n",
      "City not found. Skipping request...\n",
      "Processing Record 4 of Set 8 | katsuura\n",
      "Processing Record 5 of Set 8 | srednekolymsk\n",
      "Processing Record 6 of Set 8 | bourg-en-bresse\n",
      "Processing Record 7 of Set 8 | batangafo\n",
      "Processing Record 8 of Set 8 | kuzhithurai\n",
      "Processing Record 9 of Set 8 | codrington\n"
     ]
    },
    {
     "name": "stdout",
     "output_type": "stream",
     "text": [
      "Processing Record 10 of Set 8 | fleury-les-aubrais\n",
      "Processing Record 11 of Set 8 | shaowu\n",
      "Processing Record 12 of Set 8 | sioux lookout\n",
      "City not found. Skipping request...\n",
      "Processing Record 13 of Set 8 | aksu\n",
      "Processing Record 14 of Set 8 | tosya\n",
      "City not found. Skipping request...\n",
      "Processing Record 15 of Set 8 | esperance\n",
      "Processing Record 16 of Set 8 | stryn\n",
      "Processing Record 17 of Set 8 | suntar\n",
      "Processing Record 18 of Set 8 | kiruna\n",
      "Processing Record 19 of Set 8 | nuuk\n",
      "Processing Record 20 of Set 8 | monrovia\n",
      "Processing Record 21 of Set 8 | barra patuca\n",
      "Processing Record 22 of Set 8 | sur\n",
      "Processing Record 23 of Set 8 | angoche\n",
      "Processing Record 24 of Set 8 | tiarei\n",
      "Processing Record 25 of Set 8 | horta\n",
      "Processing Record 26 of Set 8 | longyearbyen\n",
      "Processing Record 27 of Set 8 | chimbote\n",
      "Processing Record 28 of Set 8 | port pirie\n",
      "Processing Record 29 of Set 8 | nome\n",
      "Processing Record 30 of Set 8 | doha\n",
      "Processing Record 31 of Set 8 | zhicheng\n",
      "Processing Record 32 of Set 8 | priladozhskiy\n",
      "Processing Record 33 of Set 8 | little rock\n",
      "Processing Record 34 of Set 8 | lanzhou\n",
      "Processing Record 35 of Set 8 | chimbarongo\n",
      "Processing Record 36 of Set 8 | sao geraldo do araguaia\n",
      "Processing Record 37 of Set 8 | naberera\n",
      "Processing Record 38 of Set 8 | bafra\n",
      "City not found. Skipping request...\n",
      "Processing Record 39 of Set 8 | olafsvik\n",
      "Processing Record 40 of Set 8 | levelland\n",
      "Processing Record 41 of Set 8 | lerwick\n",
      "Processing Record 42 of Set 8 | assiniboia\n",
      "Processing Record 43 of Set 8 | mumbwa\n",
      "Processing Record 44 of Set 8 | sakaiminato\n",
      "Processing Record 45 of Set 8 | san angelo\n",
      "Processing Record 46 of Set 8 | borogontsy\n",
      "Processing Record 47 of Set 8 | clarence town\n",
      "Processing Record 48 of Set 8 | husavik\n",
      "Processing Record 49 of Set 8 | praia\n",
      "Processing Record 50 of Set 8 | piacabucu\n",
      "Processing Record 51 of Set 8 | bandarbeyla\n",
      "Processing Record 1 of Set 9 | revda\n",
      "Processing Record 2 of Set 9 | miraflores\n",
      "Processing Record 3 of Set 9 | tura\n",
      "Processing Record 4 of Set 9 | beloha\n",
      "City not found. Skipping request...\n",
      "Processing Record 5 of Set 9 | kenai\n",
      "Processing Record 6 of Set 9 | fort nelson\n",
      "Processing Record 7 of Set 9 | empalme\n",
      "Processing Record 8 of Set 9 | newtownards\n",
      "Processing Record 9 of Set 9 | jardim\n",
      "Processing Record 10 of Set 9 | santa isabel do rio negro\n",
      "City not found. Skipping request...\n",
      "City not found. Skipping request...\n",
      "Processing Record 11 of Set 9 | palaikastron\n",
      "City not found. Skipping request...\n",
      "Processing Record 12 of Set 9 | san javier\n",
      "Processing Record 13 of Set 9 | tacarigua\n",
      "Processing Record 14 of Set 9 | yumen\n",
      "Processing Record 15 of Set 9 | guerrero negro\n",
      "City not found. Skipping request...\n",
      "Processing Record 16 of Set 9 | tahoua\n",
      "Processing Record 17 of Set 9 | banjar\n",
      "Processing Record 18 of Set 9 | oistins\n",
      "Processing Record 19 of Set 9 | ndjole\n",
      "City not found. Skipping request...\n",
      "City not found. Skipping request...\n",
      "Processing Record 20 of Set 9 | irtyshskiy\n",
      "City not found. Skipping request...\n",
      "Processing Record 21 of Set 9 | new richmond\n",
      "Processing Record 22 of Set 9 | macon\n",
      "Processing Record 23 of Set 9 | rocha\n",
      "Processing Record 24 of Set 9 | ahipara\n",
      "Processing Record 25 of Set 9 | port hardy\n",
      "Processing Record 26 of Set 9 | obo\n",
      "Processing Record 27 of Set 9 | north bend\n",
      "Processing Record 28 of Set 9 | little current\n",
      "Processing Record 29 of Set 9 | aquiraz\n",
      "Processing Record 30 of Set 9 | akhmim\n",
      "Processing Record 31 of Set 9 | bengkulu\n",
      "Processing Record 32 of Set 9 | lisakovsk\n",
      "Processing Record 33 of Set 9 | moyo\n",
      "Processing Record 34 of Set 9 | nichinan\n",
      "Processing Record 35 of Set 9 | puerto escondido\n",
      "Processing Record 36 of Set 9 | khani\n",
      "Processing Record 37 of Set 9 | vila velha\n",
      "Processing Record 38 of Set 9 | fairbanks\n",
      "Processing Record 39 of Set 9 | camocim\n",
      "Processing Record 40 of Set 9 | kamina\n",
      "Processing Record 41 of Set 9 | inuvik\n",
      "Processing Record 42 of Set 9 | lipnita\n",
      "City not found. Skipping request...\n",
      "Processing Record 43 of Set 9 | waitati\n",
      "City not found. Skipping request...\n",
      "Processing Record 44 of Set 9 | port hedland\n",
      "Processing Record 45 of Set 9 | carnarvon\n",
      "Processing Record 46 of Set 9 | mandalgovi\n",
      "Processing Record 47 of Set 9 | yar-sale\n",
      "City not found. Skipping request...\n",
      "City not found. Skipping request...\n",
      "Processing Record 48 of Set 9 | soyo\n",
      "Processing Record 49 of Set 9 | samoded\n",
      "Processing Record 50 of Set 9 | bereda\n",
      "Processing Record 51 of Set 9 | erenhot\n",
      "Processing Record 1 of Set 10 | belmonte\n",
      "Processing Record 2 of Set 10 | tomigusuku\n",
      "Processing Record 3 of Set 10 | coihaique\n",
      "Processing Record 4 of Set 10 | teya\n",
      "Processing Record 5 of Set 10 | mandan\n",
      "City not found. Skipping request...\n",
      "City not found. Skipping request...\n",
      "Processing Record 6 of Set 10 | alta floresta\n",
      "Processing Record 7 of Set 10 | nshamba\n",
      "Processing Record 8 of Set 10 | grenada\n",
      "Processing Record 9 of Set 10 | qaqortoq\n",
      "Processing Record 10 of Set 10 | esmeralda\n",
      "Processing Record 11 of Set 10 | dumai\n",
      "Processing Record 12 of Set 10 | denham springs\n",
      "Processing Record 13 of Set 10 | burleson\n",
      "Processing Record 14 of Set 10 | porto santo\n",
      "Processing Record 15 of Set 10 | kizhinga\n",
      "Processing Record 16 of Set 10 | moron\n",
      "Processing Record 17 of Set 10 | marrakesh\n",
      "Processing Record 18 of Set 10 | chepareria\n",
      "Processing Record 19 of Set 10 | galeras\n",
      "Processing Record 20 of Set 10 | najran\n",
      "Processing Record 21 of Set 10 | fort myers beach\n",
      "Processing Record 22 of Set 10 | russell\n",
      "Processing Record 23 of Set 10 | tak bai\n",
      "Processing Record 24 of Set 10 | igarka\n",
      "Processing Record 25 of Set 10 | grindavik\n",
      "Processing Record 26 of Set 10 | huilong\n",
      "Processing Record 27 of Set 10 | nantucket\n",
      "Processing Record 28 of Set 10 | pyshchug\n",
      "Processing Record 29 of Set 10 | margate\n",
      "Processing Record 30 of Set 10 | goundam\n",
      "Processing Record 31 of Set 10 | lagos\n",
      "Processing Record 32 of Set 10 | libertador general san martin\n",
      "Processing Record 33 of Set 10 | sao miguel do araguaia\n",
      "Processing Record 34 of Set 10 | artesia\n",
      "Processing Record 35 of Set 10 | mahibadhoo\n",
      "Processing Record 36 of Set 10 | beawar\n",
      "Processing Record 37 of Set 10 | buckingham\n",
      "Processing Record 38 of Set 10 | syracuse\n",
      "Processing Record 39 of Set 10 | valdivia\n",
      "Processing Record 40 of Set 10 | pangnirtung\n",
      "Processing Record 41 of Set 10 | kyzyl-suu\n",
      "Processing Record 42 of Set 10 | saldanha\n",
      "Processing Record 43 of Set 10 | port lincoln\n",
      "--------------\n",
      "Data Retrieval Complete\n",
      "--------------\n"
     ]
    }
   ],
   "source": [
    "## Loop through the list of cities and perform a request for data on each\n",
    "for i in cities:\n",
    "    try:\n",
    "        response = requests.get(base_url + i.replace(\" \",\"&\")).json()\n",
    "        temps.append(response['main']['temp_max'])\n",
    "        humidity.append(response['main']['humidity'])\n",
    "        clouds.append(response['clouds']['all'])\n",
    "        winds.append(response['wind']['speed'])\n",
    "        latitudes.append(response['coord']['lat'])\n",
    "        longitudes.append(response['coord']['lon'])\n",
    "        countries.append(response['sys']['country'])\n",
    "        date.append(response['dt'])\n",
    "        if counter > 50:\n",
    "            counter = 1\n",
    "            set_counter += 1\n",
    "            city_list.append(i)\n",
    "        else:\n",
    "            counter += 1\n",
    "            city_list.append(i)\n",
    "        print(f\"Processing Record {counter} of Set {set_counter} | {i}\")\n",
    "    except:\n",
    "        print(\"City not found. Skipping request...\")\n",
    "print(\"--------------\\nData Retrieval Complete\\n--------------\")"
   ]
  },
  {
   "cell_type": "code",
   "execution_count": null,
   "metadata": {
    "scrolled": true
   },
   "outputs": [],
   "source": []
  },
  {
   "cell_type": "markdown",
   "metadata": {},
   "source": [
    "### Convert Raw Data to DataFrame\n",
    "* Export the city data into a .csv.\n",
    "* Display the DataFrame"
   ]
  },
  {
   "cell_type": "code",
   "execution_count": 12,
   "metadata": {},
   "outputs": [],
   "source": [
    "weather_df = pd.DataFrame({\"City\": city_list, \n",
    "                \"Latitude\": latitudes, \n",
    "                \"Longitude\": longitudes, \n",
    "                \"Humidity\": humidity, \n",
    "                \"Max Temp\": temps, \n",
    "                \"Cloudiness\": clouds, \n",
    "                \"Wind Speed\": winds, \n",
    "                \"Country\": countries, \n",
    "                \"Date\": date,\n",
    "                })\n",
    "\n"
   ]
  },
  {
   "cell_type": "code",
   "execution_count": 13,
   "metadata": {},
   "outputs": [
    {
     "data": {
      "text/plain": [
       "City          502\n",
       "Latitude      502\n",
       "Longitude     502\n",
       "Humidity      502\n",
       "Max Temp      502\n",
       "Cloudiness    502\n",
       "Wind Speed    502\n",
       "Country       502\n",
       "Date          502\n",
       "dtype: int64"
      ]
     },
     "execution_count": 13,
     "metadata": {},
     "output_type": "execute_result"
    }
   ],
   "source": [
    "weather_df.count()"
   ]
  },
  {
   "cell_type": "code",
   "execution_count": 14,
   "metadata": {},
   "outputs": [
    {
     "data": {
      "text/html": [
       "<div>\n",
       "<style scoped>\n",
       "    .dataframe tbody tr th:only-of-type {\n",
       "        vertical-align: middle;\n",
       "    }\n",
       "\n",
       "    .dataframe tbody tr th {\n",
       "        vertical-align: top;\n",
       "    }\n",
       "\n",
       "    .dataframe thead th {\n",
       "        text-align: right;\n",
       "    }\n",
       "</style>\n",
       "<table border=\"1\" class=\"dataframe\">\n",
       "  <thead>\n",
       "    <tr style=\"text-align: right;\">\n",
       "      <th></th>\n",
       "      <th>City</th>\n",
       "      <th>Latitude</th>\n",
       "      <th>Longitude</th>\n",
       "      <th>Humidity</th>\n",
       "      <th>Max Temp</th>\n",
       "      <th>Cloudiness</th>\n",
       "      <th>Wind Speed</th>\n",
       "      <th>Country</th>\n",
       "      <th>Date</th>\n",
       "    </tr>\n",
       "  </thead>\n",
       "  <tbody>\n",
       "    <tr>\n",
       "      <th>0</th>\n",
       "      <td>hobart</td>\n",
       "      <td>-42.8794</td>\n",
       "      <td>147.3294</td>\n",
       "      <td>35</td>\n",
       "      <td>71.60</td>\n",
       "      <td>75</td>\n",
       "      <td>9.22</td>\n",
       "      <td>AU</td>\n",
       "      <td>1619840524</td>\n",
       "    </tr>\n",
       "    <tr>\n",
       "      <th>1</th>\n",
       "      <td>fortuna</td>\n",
       "      <td>40.5982</td>\n",
       "      <td>-124.1573</td>\n",
       "      <td>100</td>\n",
       "      <td>53.01</td>\n",
       "      <td>1</td>\n",
       "      <td>3.38</td>\n",
       "      <td>US</td>\n",
       "      <td>1619840507</td>\n",
       "    </tr>\n",
       "    <tr>\n",
       "      <th>2</th>\n",
       "      <td>upernavik</td>\n",
       "      <td>72.7868</td>\n",
       "      <td>-56.1549</td>\n",
       "      <td>76</td>\n",
       "      <td>23.07</td>\n",
       "      <td>100</td>\n",
       "      <td>4.32</td>\n",
       "      <td>GL</td>\n",
       "      <td>1619840525</td>\n",
       "    </tr>\n",
       "    <tr>\n",
       "      <th>3</th>\n",
       "      <td>faanui</td>\n",
       "      <td>-16.4833</td>\n",
       "      <td>-151.7500</td>\n",
       "      <td>69</td>\n",
       "      <td>81.45</td>\n",
       "      <td>91</td>\n",
       "      <td>9.33</td>\n",
       "      <td>PF</td>\n",
       "      <td>1619840362</td>\n",
       "    </tr>\n",
       "    <tr>\n",
       "      <th>4</th>\n",
       "      <td>seabra</td>\n",
       "      <td>-12.4186</td>\n",
       "      <td>-41.7703</td>\n",
       "      <td>100</td>\n",
       "      <td>68.00</td>\n",
       "      <td>90</td>\n",
       "      <td>4.61</td>\n",
       "      <td>BR</td>\n",
       "      <td>1619840525</td>\n",
       "    </tr>\n",
       "  </tbody>\n",
       "</table>\n",
       "</div>"
      ],
      "text/plain": [
       "        City  Latitude  Longitude  Humidity  Max Temp  Cloudiness  Wind Speed  \\\n",
       "0     hobart  -42.8794   147.3294        35     71.60          75        9.22   \n",
       "1    fortuna   40.5982  -124.1573       100     53.01           1        3.38   \n",
       "2  upernavik   72.7868   -56.1549        76     23.07         100        4.32   \n",
       "3     faanui  -16.4833  -151.7500        69     81.45          91        9.33   \n",
       "4     seabra  -12.4186   -41.7703       100     68.00          90        4.61   \n",
       "\n",
       "  Country        Date  \n",
       "0      AU  1619840524  \n",
       "1      US  1619840507  \n",
       "2      GL  1619840525  \n",
       "3      PF  1619840362  \n",
       "4      BR  1619840525  "
      ]
     },
     "execution_count": 14,
     "metadata": {},
     "output_type": "execute_result"
    }
   ],
   "source": [
    "weather_df.head()"
   ]
  },
  {
   "cell_type": "code",
   "execution_count": 15,
   "metadata": {},
   "outputs": [],
   "source": [
    "## export to csv\n",
    "weather_df.to_csv(\"weather_data.csv\")"
   ]
  },
  {
   "cell_type": "markdown",
   "metadata": {},
   "source": [
    "## Inspect the data and remove the cities where the humidity > 100%.\n",
    "----\n",
    "Skip this step if there are no cities that have humidity > 100%. "
   ]
  },
  {
   "cell_type": "code",
   "execution_count": 16,
   "metadata": {},
   "outputs": [
    {
     "data": {
      "text/html": [
       "<div>\n",
       "<style scoped>\n",
       "    .dataframe tbody tr th:only-of-type {\n",
       "        vertical-align: middle;\n",
       "    }\n",
       "\n",
       "    .dataframe tbody tr th {\n",
       "        vertical-align: top;\n",
       "    }\n",
       "\n",
       "    .dataframe thead th {\n",
       "        text-align: right;\n",
       "    }\n",
       "</style>\n",
       "<table border=\"1\" class=\"dataframe\">\n",
       "  <thead>\n",
       "    <tr style=\"text-align: right;\">\n",
       "      <th></th>\n",
       "      <th>Latitude</th>\n",
       "      <th>Longitude</th>\n",
       "      <th>Humidity</th>\n",
       "      <th>Max Temp</th>\n",
       "      <th>Cloudiness</th>\n",
       "      <th>Wind Speed</th>\n",
       "      <th>Date</th>\n",
       "    </tr>\n",
       "  </thead>\n",
       "  <tbody>\n",
       "    <tr>\n",
       "      <th>count</th>\n",
       "      <td>502.000000</td>\n",
       "      <td>502.000000</td>\n",
       "      <td>502.000000</td>\n",
       "      <td>502.000000</td>\n",
       "      <td>502.000000</td>\n",
       "      <td>502.000000</td>\n",
       "      <td>5.020000e+02</td>\n",
       "    </tr>\n",
       "    <tr>\n",
       "      <th>mean</th>\n",
       "      <td>23.510301</td>\n",
       "      <td>14.112177</td>\n",
       "      <td>69.450199</td>\n",
       "      <td>60.787948</td>\n",
       "      <td>56.366534</td>\n",
       "      <td>7.686952</td>\n",
       "      <td>1.619841e+09</td>\n",
       "    </tr>\n",
       "    <tr>\n",
       "      <th>std</th>\n",
       "      <td>31.992181</td>\n",
       "      <td>85.573376</td>\n",
       "      <td>23.838539</td>\n",
       "      <td>19.227269</td>\n",
       "      <td>39.124413</td>\n",
       "      <td>5.870534</td>\n",
       "      <td>8.068429e+01</td>\n",
       "    </tr>\n",
       "    <tr>\n",
       "      <th>min</th>\n",
       "      <td>-54.800000</td>\n",
       "      <td>-175.200000</td>\n",
       "      <td>1.000000</td>\n",
       "      <td>12.200000</td>\n",
       "      <td>0.000000</td>\n",
       "      <td>0.110000</td>\n",
       "      <td>1.619840e+09</td>\n",
       "    </tr>\n",
       "    <tr>\n",
       "      <th>25%</th>\n",
       "      <td>-2.631100</td>\n",
       "      <td>-56.324775</td>\n",
       "      <td>56.000000</td>\n",
       "      <td>45.035000</td>\n",
       "      <td>20.000000</td>\n",
       "      <td>3.510000</td>\n",
       "      <td>1.619841e+09</td>\n",
       "    </tr>\n",
       "    <tr>\n",
       "      <th>50%</th>\n",
       "      <td>28.997100</td>\n",
       "      <td>14.853750</td>\n",
       "      <td>75.000000</td>\n",
       "      <td>64.040000</td>\n",
       "      <td>75.000000</td>\n",
       "      <td>5.840000</td>\n",
       "      <td>1.619841e+09</td>\n",
       "    </tr>\n",
       "    <tr>\n",
       "      <th>75%</th>\n",
       "      <td>49.951650</td>\n",
       "      <td>77.950450</td>\n",
       "      <td>88.000000</td>\n",
       "      <td>77.000000</td>\n",
       "      <td>94.750000</td>\n",
       "      <td>10.360000</td>\n",
       "      <td>1.619841e+09</td>\n",
       "    </tr>\n",
       "    <tr>\n",
       "      <th>max</th>\n",
       "      <td>78.218600</td>\n",
       "      <td>179.316700</td>\n",
       "      <td>100.000000</td>\n",
       "      <td>98.850000</td>\n",
       "      <td>100.000000</td>\n",
       "      <td>59.840000</td>\n",
       "      <td>1.619841e+09</td>\n",
       "    </tr>\n",
       "  </tbody>\n",
       "</table>\n",
       "</div>"
      ],
      "text/plain": [
       "         Latitude   Longitude    Humidity    Max Temp  Cloudiness  Wind Speed  \\\n",
       "count  502.000000  502.000000  502.000000  502.000000  502.000000  502.000000   \n",
       "mean    23.510301   14.112177   69.450199   60.787948   56.366534    7.686952   \n",
       "std     31.992181   85.573376   23.838539   19.227269   39.124413    5.870534   \n",
       "min    -54.800000 -175.200000    1.000000   12.200000    0.000000    0.110000   \n",
       "25%     -2.631100  -56.324775   56.000000   45.035000   20.000000    3.510000   \n",
       "50%     28.997100   14.853750   75.000000   64.040000   75.000000    5.840000   \n",
       "75%     49.951650   77.950450   88.000000   77.000000   94.750000   10.360000   \n",
       "max     78.218600  179.316700  100.000000   98.850000  100.000000   59.840000   \n",
       "\n",
       "               Date  \n",
       "count  5.020000e+02  \n",
       "mean   1.619841e+09  \n",
       "std    8.068429e+01  \n",
       "min    1.619840e+09  \n",
       "25%    1.619841e+09  \n",
       "50%    1.619841e+09  \n",
       "75%    1.619841e+09  \n",
       "max    1.619841e+09  "
      ]
     },
     "execution_count": 16,
     "metadata": {},
     "output_type": "execute_result"
    }
   ],
   "source": [
    "weather_df.describe()"
   ]
  },
  {
   "cell_type": "code",
   "execution_count": 17,
   "metadata": {},
   "outputs": [],
   "source": [
    "#  Get the indices of cities that have humidity over 100%.\n",
    "## Max Humidity in the DataFrame.describe is 100, so I believe none are greater than 100."
   ]
  },
  {
   "cell_type": "code",
   "execution_count": 18,
   "metadata": {},
   "outputs": [],
   "source": [
    "# Make a new DataFrame equal to the city data to drop all humidity outliers by index.\n",
    "# Passing \"inplace=False\" will make a copy of the city_data DataFrame, which we call \"clean_city_data\".\n"
   ]
  },
  {
   "cell_type": "code",
   "execution_count": null,
   "metadata": {},
   "outputs": [],
   "source": [
    "\n"
   ]
  },
  {
   "cell_type": "markdown",
   "metadata": {},
   "source": [
    "## Plotting the Data\n",
    "* Use proper labeling of the plots using plot titles (including date of analysis) and axes labels.\n",
    "* Save the plotted figures as .pngs."
   ]
  },
  {
   "cell_type": "markdown",
   "metadata": {},
   "source": [
    "## Latitude vs. Temperature Plot"
   ]
  },
  {
   "cell_type": "code",
   "execution_count": 19,
   "metadata": {
    "scrolled": true
   },
   "outputs": [
    {
     "data": {
      "image/png": "[encoded data removed]",
      "text/plain": [
       "<Figure size 432x288 with 1 Axes>"
      ]
     },
     "metadata": {
      "needs_background": "light"
     },
     "output_type": "display_data"
    }
   ],
   "source": [
    "x_values = weather_df[\"Latitude\"]\n",
    "y_values = weather_df[\"Max Temp\"]\n",
    "plt.scatter(x_values,y_values, marker= \"o\", edgecolor= \"black\")\n",
    "plt.xlabel(\"Latitude\")\n",
    "plt.ylabel(\"Max Temperature (F)\")\n",
    "plt.title(\"Latitude vs Max Temperature\")\n",
    "plt.grid()\n",
    "\n",
    "# Save figure as .png\n",
    "plt.savefig(\"Latitude vs Max Temperature.png\")\n",
    "\n",
    "plt.show()\n"
   ]
  },
  {
   "cell_type": "markdown",
   "metadata": {},
   "source": [
    "The scatter plot above is analyzing the max temperature values based on distance from the equator (0° Latitude).  The temps rise as you get closer to the equator."
   ]
  },
  {
   "cell_type": "markdown",
   "metadata": {},
   "source": [
    "## Latitude vs. Humidity Plot"
   ]
  },
  {
   "cell_type": "code",
   "execution_count": 20,
   "metadata": {
    "scrolled": false
   },
   "outputs": [
    {
     "data": {
      "image/png": "[encoded data removed]",
      "text/plain": [
       "<Figure size 432x288 with 1 Axes>"
      ]
     },
     "metadata": {
      "needs_background": "light"
     },
     "output_type": "display_data"
    }
   ],
   "source": [
    "x_values = weather_df[\"Latitude\"]\n",
    "y_values = weather_df[\"Humidity\"]\n",
    "plt.scatter(x_values,y_values, marker= \"o\", edgecolor= \"black\", color= \"green\")\n",
    "plt.xlabel(\"Latitude\")\n",
    "plt.ylabel(\"Humidity\")\n",
    "plt.title(\"Latitude vs Humidity\")\n",
    "plt.grid()\n",
    "\n",
    "# Save figure as .png\n",
    "plt.savefig(\"Latitude vs Humidity.png\")\n",
    "\n",
    "plt.show()\n"
   ]
  },
  {
   "cell_type": "markdown",
   "metadata": {},
   "source": [
    "The scatter plot above is analyzing the humidity values based on distance from the equator (0° Latitude).  The humidity levels don't seem to have a clear trend in regards to equator."
   ]
  },
  {
   "cell_type": "markdown",
   "metadata": {},
   "source": [
    "## Latitude vs. Cloudiness Plot"
   ]
  },
  {
   "cell_type": "code",
   "execution_count": 21,
   "metadata": {
    "scrolled": true
   },
   "outputs": [
    {
     "data": {
      "image/png": "[encoded data removed]",
      "text/plain": [
       "<Figure size 432x288 with 1 Axes>"
      ]
     },
     "metadata": {
      "needs_background": "light"
     },
     "output_type": "display_data"
    }
   ],
   "source": [
    "x_values = weather_df[\"Latitude\"]\n",
    "y_values = weather_df[\"Cloudiness\"]\n",
    "plt.scatter(x_values,y_values, marker= \"o\", edgecolor= \"black\", color= \"orange\")\n",
    "plt.xlabel(\"Latitude\")\n",
    "plt.ylabel(\"Cloudiness\")\n",
    "plt.title(\"Latitude vs Cloudiness\")\n",
    "plt.grid()\n",
    "\n",
    "# Save figure as .png\n",
    "plt.savefig(\"Latitude vs Cloudiness.png\")\n",
    "\n",
    "plt.show()\n"
   ]
  },
  {
   "cell_type": "markdown",
   "metadata": {},
   "source": [
    "The scatter plot above is analyzing the cloudiness levels based on distance from the equator (0° Latitude). There looks to be no correlation between the cloudiness and a city's latitude."
   ]
  },
  {
   "cell_type": "markdown",
   "metadata": {},
   "source": [
    "## Latitude vs. Wind Speed Plot"
   ]
  },
  {
   "cell_type": "code",
   "execution_count": 22,
   "metadata": {
    "scrolled": true
   },
   "outputs": [
    {
     "data": {
      "image/png": "[encoded data removed]",
      "text/plain": [
       "<Figure size 432x288 with 1 Axes>"
      ]
     },
     "metadata": {
      "needs_background": "light"
     },
     "output_type": "display_data"
    }
   ],
   "source": [
    "x_values = weather_df[\"Latitude\"]\n",
    "y_values = weather_df[\"Wind Speed\"]\n",
    "plt.scatter(x_values,y_values, marker= \"o\", edgecolor= \"black\", color= \"yellow\")\n",
    "plt.xlabel(\"Latitude\")\n",
    "plt.ylabel(\"Wind Speed\")\n",
    "plt.title(\"Latitude vs Wind Speed\")\n",
    "plt.grid()\n",
    "\n",
    "# Save figure as .png\n",
    "plt.savefig(\"Latitude vs Wind Speed.png\")\n",
    "\n",
    "plt.show()\n"
   ]
  },
  {
   "cell_type": "markdown",
   "metadata": {},
   "source": [
    "The scatter plot above is analyzing the wind speeds based on distance from the equator (0° Latitude). There appears to be no releationship between the wind speed and a city's latitude."
   ]
  },
  {
   "cell_type": "markdown",
   "metadata": {},
   "source": [
    "## Linear Regression"
   ]
  },
  {
   "cell_type": "code",
   "execution_count": 23,
   "metadata": {},
   "outputs": [],
   "source": [
    "## Create a df for both the northern and southern hemispheres\n",
    "northern_df = weather_df.loc[(weather_df[\"Latitude\"] >= 0)]\n",
    "southern_df = weather_df.loc[(weather_df[\"Latitude\"] < 0)]\n"
   ]
  },
  {
   "cell_type": "markdown",
   "metadata": {},
   "source": [
    "####  Northern Hemisphere - Max Temp vs. Latitude Linear Regression"
   ]
  },
  {
   "cell_type": "code",
   "execution_count": 24,
   "metadata": {
    "scrolled": true
   },
   "outputs": [
    {
     "name": "stdout",
     "output_type": "stream",
     "text": [
      "r-squared: -0.8849033281697519\n"
     ]
    },
    {
     "data": {
      "image/png": "[encoded data removed]",
      "text/plain": [
       "<Figure size 432x288 with 1 Axes>"
      ]
     },
     "metadata": {
      "needs_background": "light"
     },
     "output_type": "display_data"
    }
   ],
   "source": [
    "x_values = northern_df[\"Latitude\"]\n",
    "y_values = northern_df[\"Max Temp\"]\n",
    "(slope, intercept, rvalue, pvalue, stderr) = st.linregress(x_values, y_values)\n",
    "regress_values = x_values * slope + intercept\n",
    "line_eq = \"y = \" + str(round(slope,2)) + \"x + \" + str(round(intercept,2))\n",
    "plt.scatter(x_values, y_values, marker= \"o\", edgecolor= \"black\")\n",
    "plt.plot(x_values, regress_values, \"r-\")\n",
    "plt.xlabel(\"Latitude\")\n",
    "plt.ylabel(\"Max Temperature (F)\")\n",
    "print(f\"r-squared: {rvalue}\")\n",
    "\n",
    "# Save figure as .png\n",
    "plt.savefig(\"NH_Latitude_vs_Max_Temp.png\")\n",
    "\n",
    "plt.show()\n"
   ]
  },
  {
   "cell_type": "markdown",
   "metadata": {},
   "source": [
    "####  Southern Hemisphere - Max Temp vs. Latitude Linear Regression"
   ]
  },
  {
   "cell_type": "code",
   "execution_count": 25,
   "metadata": {
    "scrolled": true
   },
   "outputs": [
    {
     "name": "stdout",
     "output_type": "stream",
     "text": [
      "r-squared: 0.654478255410643\n"
     ]
    },
    {
     "data": {
      "image/png": "[encoded data removed]",
      "text/plain": [
       "<Figure size 432x288 with 1 Axes>"
      ]
     },
     "metadata": {
      "needs_background": "light"
     },
     "output_type": "display_data"
    }
   ],
   "source": [
    "x_values = southern_df[\"Latitude\"]\n",
    "y_values = southern_df[\"Max Temp\"]\n",
    "(slope, intercept, rvalue, pvalue, stderr) = st.linregress(x_values, y_values)\n",
    "regress_values = x_values * slope + intercept\n",
    "line_eq = \"y = \" + str(round(slope,2)) + \"x + \" + str(round(intercept,2))\n",
    "plt.scatter(x_values, y_values, marker= \"o\", edgecolor= \"black\")\n",
    "plt.plot(x_values, regress_values, \"r-\")\n",
    "plt.xlabel(\"Latitude\")\n",
    "plt.ylabel(\"Max Temperature (F)\")\n",
    "print(f\"r-squared: {rvalue}\")\n",
    "\n",
    "# Save figure as .png\n",
    "plt.savefig(\"SH_Latitude_vs_Max_Temp.png\")\n",
    "\n",
    "plt.show()\n"
   ]
  },
  {
   "cell_type": "markdown",
   "metadata": {},
   "source": [
    "Seeing the scatter plots and linear regression for both hemispheres, there is strong relationship between temperature and a city's distance from the equator (0° Latitude).  The Northern Hemisphere's line shows the temperatures decreases as city locations are further from the equator, and the Southern hemisphere's line shows temeratures increasing as city's are closer to the equator."
   ]
  },
  {
   "cell_type": "markdown",
   "metadata": {},
   "source": [
    "####  Northern Hemisphere - Humidity (%) vs. Latitude Linear Regression"
   ]
  },
  {
   "cell_type": "code",
   "execution_count": 26,
   "metadata": {},
   "outputs": [
    {
     "name": "stdout",
     "output_type": "stream",
     "text": [
      "r-squared: 0.17057982965878227\n"
     ]
    },
    {
     "data": {
      "image/png": "[encoded data removed]",
      "text/plain": [
       "<Figure size 432x288 with 1 Axes>"
      ]
     },
     "metadata": {
      "needs_background": "light"
     },
     "output_type": "display_data"
    }
   ],
   "source": [
    "x_values = northern_df[\"Latitude\"]\n",
    "y_values = northern_df[\"Humidity\"]\n",
    "(slope, intercept, rvalue, pvalue, stderr) = st.linregress(x_values, y_values)\n",
    "regress_values = x_values * slope + intercept\n",
    "line_eq = \"y = \" + str(round(slope,2)) + \"x + \" + str(round(intercept,2))\n",
    "plt.scatter(x_values, y_values, marker= \"o\", edgecolor= \"black\", color= \"green\")\n",
    "plt.plot(x_values, regress_values, \"r-\")\n",
    "plt.xlabel(\"Latitude\")\n",
    "plt.ylabel(\"Humidity\")\n",
    "print(f\"r-squared: {rvalue}\")\n",
    "\n",
    "# Save figure as .png\n",
    "plt.savefig(\"NH_Latitude_vs_Humidity.png\")\n",
    "\n",
    "plt.show()\n"
   ]
  },
  {
   "cell_type": "markdown",
   "metadata": {},
   "source": [
    "####  Southern Hemisphere - Humidity (%) vs. Latitude Linear Regression"
   ]
  },
  {
   "cell_type": "code",
   "execution_count": 27,
   "metadata": {
    "scrolled": true
   },
   "outputs": [
    {
     "name": "stdout",
     "output_type": "stream",
     "text": [
      "r-squared: 0.2468402531782078\n"
     ]
    },
    {
     "data": {
      "image/png": "[encoded data removed]",
      "text/plain": [
       "<Figure size 432x288 with 1 Axes>"
      ]
     },
     "metadata": {
      "needs_background": "light"
     },
     "output_type": "display_data"
    }
   ],
   "source": [
    "x_values = southern_df[\"Latitude\"]\n",
    "y_values = southern_df[\"Humidity\"]\n",
    "(slope, intercept, rvalue, pvalue, stderr) = st.linregress(x_values, y_values)\n",
    "regress_values = x_values * slope + intercept\n",
    "line_eq = \"y = \" + str(round(slope,2)) + \"x + \" + str(round(intercept,2))\n",
    "plt.scatter(x_values, y_values, marker= \"o\", edgecolor= \"black\", color= \"green\")\n",
    "plt.plot(x_values, regress_values, \"r-\")\n",
    "plt.xlabel(\"Latitude\")\n",
    "plt.ylabel(\"Humidity\")\n",
    "print(f\"r-squared: {rvalue}\")\n",
    "\n",
    "# Save figure as .png\n",
    "plt.savefig(\"SH_Latitude_vs_Humidity.png\")\n",
    "\n",
    "plt.show()\n"
   ]
  },
  {
   "cell_type": "markdown",
   "metadata": {},
   "source": [
    "Based on the line/plots and the r-square scores, the is not a strong correlation between city latitude and humidity level in either hemisphere."
   ]
  },
  {
   "cell_type": "markdown",
   "metadata": {},
   "source": [
    "####  Northern Hemisphere - Cloudiness (%) vs. Latitude Linear Regression"
   ]
  },
  {
   "cell_type": "code",
   "execution_count": 28,
   "metadata": {},
   "outputs": [
    {
     "name": "stdout",
     "output_type": "stream",
     "text": [
      "r-squared: 0.10275657384396854\n"
     ]
    },
    {
     "data": {
      "image/png": "[encoded data removed]",
      "text/plain": [
       "<Figure size 432x288 with 1 Axes>"
      ]
     },
     "metadata": {
      "needs_background": "light"
     },
     "output_type": "display_data"
    }
   ],
   "source": [
    "x_values = northern_df[\"Latitude\"]\n",
    "y_values = northern_df[\"Cloudiness\"]\n",
    "(slope, intercept, rvalue, pvalue, stderr) = st.linregress(x_values, y_values)\n",
    "regress_values = x_values * slope + intercept\n",
    "line_eq = \"y = \" + str(round(slope,2)) + \"x + \" + str(round(intercept,2))\n",
    "plt.scatter(x_values, y_values, marker= \"o\", edgecolor= \"black\", color= \"orange\")\n",
    "plt.plot(x_values, regress_values, \"r-\")\n",
    "plt.xlabel(\"Latitude\")\n",
    "plt.ylabel(\"Cloudiness\")\n",
    "print(f\"r-squared: {rvalue}\")\n",
    "\n",
    "# Save figure as .png\n",
    "plt.savefig(\"NH_Latitude_vs_Cloudiness.png\")\n",
    "\n",
    "plt.show()\n"
   ]
  },
  {
   "cell_type": "markdown",
   "metadata": {},
   "source": [
    "####  Southern Hemisphere - Cloudiness (%) vs. Latitude Linear Regression"
   ]
  },
  {
   "cell_type": "code",
   "execution_count": 29,
   "metadata": {
    "scrolled": true
   },
   "outputs": [
    {
     "name": "stdout",
     "output_type": "stream",
     "text": [
      "r-squared: 0.17943174038906481\n"
     ]
    },
    {
     "data": {
      "image/png": "[encoded data removed]",
      "text/plain": [
       "<Figure size 432x288 with 1 Axes>"
      ]
     },
     "metadata": {
      "needs_background": "light"
     },
     "output_type": "display_data"
    }
   ],
   "source": [
    "x_values = southern_df[\"Latitude\"]\n",
    "y_values = southern_df[\"Cloudiness\"]\n",
    "(slope, intercept, rvalue, pvalue, stderr) = st.linregress(x_values, y_values)\n",
    "regress_values = x_values * slope + intercept\n",
    "line_eq = \"y = \" + str(round(slope,2)) + \"x + \" + str(round(intercept,2))\n",
    "plt.scatter(x_values, y_values, marker= \"o\", edgecolor= \"black\", color= \"orange\")\n",
    "plt.plot(x_values, regress_values, \"r-\")\n",
    "plt.xlabel(\"Latitude\")\n",
    "plt.ylabel(\"Cloudiness\")\n",
    "print(f\"r-squared: {rvalue}\")\n",
    "\n",
    "# Save figure as .png\n",
    "plt.savefig(\"SH_Latitude_vs_Cloudiness.png\")\n",
    "\n",
    "plt.show()\n"
   ]
  },
  {
   "cell_type": "markdown",
   "metadata": {},
   "source": [
    "Based on the line/plots and the r-square scores, the is not a strong correlation between city latitude and cloudiness in either hemisphere."
   ]
  },
  {
   "cell_type": "markdown",
   "metadata": {},
   "source": [
    "####  Northern Hemisphere - Wind Speed (mph) vs. Latitude Linear Regression"
   ]
  },
  {
   "cell_type": "code",
   "execution_count": 30,
   "metadata": {},
   "outputs": [
    {
     "name": "stdout",
     "output_type": "stream",
     "text": [
      "r-squared: 0.2260369378859136\n"
     ]
    },
    {
     "data": {
      "image/png": "[encoded data removed]",
      "text/plain": [
       "<Figure size 432x288 with 1 Axes>"
      ]
     },
     "metadata": {
      "needs_background": "light"
     },
     "output_type": "display_data"
    }
   ],
   "source": [
    "x_values = northern_df[\"Latitude\"]\n",
    "y_values = northern_df[\"Wind Speed\"]\n",
    "(slope, intercept, rvalue, pvalue, stderr) = st.linregress(x_values, y_values)\n",
    "regress_values = x_values * slope + intercept\n",
    "line_eq = \"y = \" + str(round(slope,2)) + \"x + \" + str(round(intercept,2))\n",
    "plt.scatter(x_values, y_values, marker= \"o\", edgecolor= \"black\", color= \"yellow\")\n",
    "plt.plot(x_values, regress_values, \"r-\")\n",
    "plt.xlabel(\"Latitude\")\n",
    "plt.ylabel(\"Wind Speed\")\n",
    "print(f\"r-squared: {rvalue}\")\n",
    "\n",
    "# Save figure as .png\n",
    "plt.savefig(\"NH_Latitude_vs_WindSpeed.png\")\n",
    "\n",
    "plt.show()\n"
   ]
  },
  {
   "cell_type": "markdown",
   "metadata": {},
   "source": [
    "####  Southern Hemisphere - Wind Speed (mph) vs. Latitude Linear Regression"
   ]
  },
  {
   "cell_type": "code",
   "execution_count": 31,
   "metadata": {},
   "outputs": [
    {
     "name": "stdout",
     "output_type": "stream",
     "text": [
      "r-squared: -0.38753901828752585\n"
     ]
    },
    {
     "data": {
      "image/png": "[encoded data removed]",
      "text/plain": [
       "<Figure size 432x288 with 1 Axes>"
      ]
     },
     "metadata": {
      "needs_background": "light"
     },
     "output_type": "display_data"
    }
   ],
   "source": [
    "x_values = southern_df[\"Latitude\"]\n",
    "y_values = southern_df[\"Wind Speed\"]\n",
    "(slope, intercept, rvalue, pvalue, stderr) = st.linregress(x_values, y_values)\n",
    "regress_values = x_values * slope + intercept\n",
    "line_eq = \"y = \" + str(round(slope,2)) + \"x + \" + str(round(intercept,2))\n",
    "plt.scatter(x_values, y_values, marker= \"o\", edgecolor= \"black\", color= \"yellow\")\n",
    "plt.plot(x_values, regress_values, \"r-\")\n",
    "plt.xlabel(\"Latitude\")\n",
    "plt.ylabel(\"Wind Speed\")\n",
    "print(f\"r-squared: {rvalue}\")\n",
    "\n",
    "# Save figure as .png\n",
    "plt.savefig(\"SH_Latitude_vs_WindSpeed.png\")\n",
    "\n",
    "plt.show()\n"
   ]
  },
  {
   "cell_type": "markdown",
   "metadata": {},
   "source": [
    "Based on the line/plots and the r-square scores, the is not a strong correlation between city latitude and wind speeds in either hemisphere."
   ]
  },
  {
   "cell_type": "markdown",
   "metadata": {},
   "source": [
    "# Observable Trends Based on Data\n",
    "\n",
    "1.  Plotting the Max Temp vs Latitude proved that temperatures are generally higher as we approach the equator (strong correlation).  On the scatter plots, the Northern Hemisphere's line shows the temperatures decreases as city locations are further from the equator, and the Southern hemisphere's line shows temeratures increasing as city's are closer to the equator.\n",
    "\n",
    "2.  There does not seem to be a correlation between latitude and humidity or cloudiness.\n",
    "\n",
    "3.  Based on the r-squared scores the does not seem to be a strong correlation between latitude and wind speed, but the wind speeds look to be a little higher as we move away from the equator."
   ]
  }
 ],
 "metadata": {
  "anaconda-cloud": {},
  "kernel_info": {
   "name": "python3"
  },
  "kernelspec": {
   "display_name": "Python 3",
   "language": "python",
   "name": "python3"
  },
  "language_info": {
   "codemirror_mode": {
    "name": "ipython",
    "version": 3
   },
   "file_extension": ".py",
   "mimetype": "text/x-python",
   "name": "python",
   "nbconvert_exporter": "python",
   "pygments_lexer": "ipython3",
   "version": "3.6.13"
  },
  "latex_envs": {
   "LaTeX_envs_menu_present": true,
   "autoclose": false,
   "autocomplete": true,
   "bibliofile": "biblio.bib",
   "cite_by": "apalike",
   "current_citInitial": 1,
   "eqLabelWithNumbers": true,
   "eqNumInitial": 1,
   "hotkeys": {
    "equation": "Ctrl-E",
    "itemize": "Ctrl-I"
   },
   "labels_anchors": false,
   "latex_user_defs": false,
   "report_style_numbering": false,
   "user_envs_cfg": false
  },
  "nteract": {
   "version": "0.12.3"
  }
 },
 "nbformat": 4,
 "nbformat_minor": 2
}
